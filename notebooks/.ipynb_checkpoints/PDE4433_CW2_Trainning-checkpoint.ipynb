{
 "cells": [
  {
   "cell_type": "code",
   "execution_count": 101,
   "id": "0cf14a34-35d5-46cc-90d1-4721a5c57a63",
   "metadata": {},
   "outputs": [],
   "source": [
    "import pandas as pd\n",
    "# crop_and_soil_dataSet.csv  = crop types and soil conditions (8000 Samples)\n",
    "# plant_growth_dataSet.csv = Plant growing conditons (193 Samples)\n",
    "# crop_recommendation.csv = crop types and soil conditions (2200 Samples)\n",
    "\n",
    "# There are some images of soil type below - 144 Images\n",
    "# https://www.kaggle.com/datasets/matshidiso/soil-types\n",
    "# 1555 images\n",
    "# https://www.kaggle.com/datasets/jhislainematchouath/soil-types-\n",
    "# 881 images\n",
    "# https://www.kaggle.com/datasets/kurniaaisyah/soil-types-dataset\n",
    "# 1360 images\n",
    "# https://www.kaggle.com/datasets/thirishag/soil-types"
   ]
  },
  {
   "cell_type": "code",
   "execution_count": 4,
   "id": "e2d57ca9-1785-4291-a004-9c500d6d4339",
   "metadata": {},
   "outputs": [],
   "source": [
    "# In this lab, we will use DT and FR to predict the output class for the Iris flower.\n",
    "\n",
    "# import the required libraries.\n",
    "from sklearn.tree import DecisionTreeClassifier\n",
    "from sklearn.ensemble import RandomForestClassifier\n",
    "from sklearn.tree import export_text # this is used to show the DT Tree\n",
    "import pandas as pd\n",
    "from sklearn.model_selection import train_test_split\n",
    "from sklearn import metrics # this is to find the accuracy score\n"
   ]
  },
  {
   "cell_type": "code",
   "execution_count": 103,
   "id": "db27e9df-1492-4f12-9fd3-20fd9a07c032",
   "metadata": {},
   "outputs": [],
   "source": [
    "# import matplotlib.pyplot as plt\n",
    "\n",
    "# name_counts.head(10).plot(kind=\"bar\", figsize=(10,5), title=\"Top 10 Most Common Names\")\n",
    "# plt.xlabel(df1[\"Soil Type\"])\n",
    "# plt.ylabel(df1[\"Soil Type\"].value_counts())\n",
    "# plt.show()"
   ]
  },
  {
   "cell_type": "code",
   "execution_count": 5,
   "id": "7bd8dd9c-77b4-4765-9861-8242d493f1f4",
   "metadata": {},
   "outputs": [
    {
     "name": "stdout",
     "output_type": "stream",
     "text": [
      "Crop\n",
      "Rice           100\n",
      "Maize          100\n",
      "ChickPea       100\n",
      "KidneyBeans    100\n",
      "PigeonPeas     100\n",
      "MothBeans      100\n",
      "MungBean       100\n",
      "Blackgram      100\n",
      "Lentil         100\n",
      "Pomegranate    100\n",
      "Banana         100\n",
      "Mango          100\n",
      "Grapes         100\n",
      "Watermelon     100\n",
      "Muskmelon      100\n",
      "Apple          100\n",
      "Orange         100\n",
      "Papaya         100\n",
      "Coconut        100\n",
      "Cotton         100\n",
      "Jute           100\n",
      "Coffee         100\n",
      "Name: count, dtype: int64\n"
     ]
    }
   ],
   "source": [
    "df_old = pd.read_csv(\"crop_and_soil_dataSet.csv\")\n",
    "df_old.head()\n",
    "\n",
    "df = pd.read_csv(\"crop_recommendation.csv\")\n",
    "df.head()\n",
    "count = df[\"Crop\"].value_counts()\n",
    "print(count)"
   ]
  },
  {
   "cell_type": "code",
   "execution_count": 6,
   "id": "fb5c0d7a-c54e-4752-bf90-cb69c086a323",
   "metadata": {},
   "outputs": [
    {
     "data": {
      "text/html": [
       "<div>\n",
       "<style scoped>\n",
       "    .dataframe tbody tr th:only-of-type {\n",
       "        vertical-align: middle;\n",
       "    }\n",
       "\n",
       "    .dataframe tbody tr th {\n",
       "        vertical-align: top;\n",
       "    }\n",
       "\n",
       "    .dataframe thead th {\n",
       "        text-align: right;\n",
       "    }\n",
       "</style>\n",
       "<table border=\"1\" class=\"dataframe\">\n",
       "  <thead>\n",
       "    <tr style=\"text-align: right;\">\n",
       "      <th></th>\n",
       "      <th>Temparature</th>\n",
       "      <th>Humidity</th>\n",
       "      <th>Moisture</th>\n",
       "      <th>Soil Type</th>\n",
       "      <th>Crop Type</th>\n",
       "      <th>Nitrogen</th>\n",
       "      <th>Potassium</th>\n",
       "      <th>Phosphorous</th>\n",
       "      <th>Fertilizer Name</th>\n",
       "    </tr>\n",
       "  </thead>\n",
       "  <tbody>\n",
       "    <tr>\n",
       "      <th>0</th>\n",
       "      <td>26.0</td>\n",
       "      <td>52.0</td>\n",
       "      <td>38.0</td>\n",
       "      <td>Sandy</td>\n",
       "      <td>Maize</td>\n",
       "      <td>37</td>\n",
       "      <td>0</td>\n",
       "      <td>0</td>\n",
       "      <td>Urea</td>\n",
       "    </tr>\n",
       "    <tr>\n",
       "      <th>1</th>\n",
       "      <td>29.0</td>\n",
       "      <td>52.0</td>\n",
       "      <td>45.0</td>\n",
       "      <td>Loamy</td>\n",
       "      <td>Sugarcane</td>\n",
       "      <td>12</td>\n",
       "      <td>0</td>\n",
       "      <td>36</td>\n",
       "      <td>DAP</td>\n",
       "    </tr>\n",
       "    <tr>\n",
       "      <th>2</th>\n",
       "      <td>34.0</td>\n",
       "      <td>65.0</td>\n",
       "      <td>62.0</td>\n",
       "      <td>Black</td>\n",
       "      <td>Cotton</td>\n",
       "      <td>7</td>\n",
       "      <td>9</td>\n",
       "      <td>30</td>\n",
       "      <td>14-35-14</td>\n",
       "    </tr>\n",
       "    <tr>\n",
       "      <th>3</th>\n",
       "      <td>32.0</td>\n",
       "      <td>62.0</td>\n",
       "      <td>34.0</td>\n",
       "      <td>Red</td>\n",
       "      <td>Tobacco</td>\n",
       "      <td>22</td>\n",
       "      <td>0</td>\n",
       "      <td>20</td>\n",
       "      <td>28-28</td>\n",
       "    </tr>\n",
       "    <tr>\n",
       "      <th>4</th>\n",
       "      <td>28.0</td>\n",
       "      <td>54.0</td>\n",
       "      <td>46.0</td>\n",
       "      <td>Clayey</td>\n",
       "      <td>Paddy</td>\n",
       "      <td>35</td>\n",
       "      <td>0</td>\n",
       "      <td>0</td>\n",
       "      <td>Urea</td>\n",
       "    </tr>\n",
       "  </tbody>\n",
       "</table>\n",
       "</div>"
      ],
      "text/plain": [
       "   Temparature  Humidity  Moisture Soil Type  Crop Type  Nitrogen  Potassium  \\\n",
       "0         26.0      52.0      38.0     Sandy      Maize        37          0   \n",
       "1         29.0      52.0      45.0     Loamy  Sugarcane        12          0   \n",
       "2         34.0      65.0      62.0     Black     Cotton         7          9   \n",
       "3         32.0      62.0      34.0       Red    Tobacco        22          0   \n",
       "4         28.0      54.0      46.0    Clayey      Paddy        35          0   \n",
       "\n",
       "   Phosphorous Fertilizer Name  \n",
       "0            0            Urea  \n",
       "1           36             DAP  \n",
       "2           30        14-35-14  \n",
       "3           20           28-28  \n",
       "4            0            Urea  "
      ]
     },
     "execution_count": 6,
     "metadata": {},
     "output_type": "execute_result"
    }
   ],
   "source": [
    "df_old.head()\n"
   ]
  },
  {
   "cell_type": "code",
   "execution_count": null,
   "id": "b892e087-04d0-4da8-9c1c-802fcfd2fef8",
   "metadata": {},
   "outputs": [],
   "source": [
    "df.head()\n"
   ]
  },
  {
   "cell_type": "code",
   "execution_count": 105,
   "id": "2c626fba-1e91-4134-ad89-44e03215e76a",
   "metadata": {},
   "outputs": [],
   "source": [
    "# import matplotlib.pyplot as plt\n",
    "\n",
    "# name_counts.head(10).plot(kind=\"bar\", figsize=(10,5), title=\"Top 10 Most Common Names\")\n",
    "# plt.xlabel(df1[\"Soil Type\"])\n",
    "# plt.ylabel(df1[\"Soil Type\"].value_counts())\n",
    "# plt.show()"
   ]
  },
  {
   "cell_type": "code",
   "execution_count": 106,
   "id": "a40ff41b-057c-4f0f-ac6f-ac63fd4186d2",
   "metadata": {},
   "outputs": [
    {
     "name": "stdout",
     "output_type": "stream",
     "text": [
      "Index(['Nitrogen', 'Phosphorus', 'Potassium', 'Temperature', 'Humidity',\n",
      "       'pH_Value', 'Rainfall', 'Crop'],\n",
      "      dtype='object')\n",
      "Index(['Temparature', 'Humidity', 'Moisture', 'Soil Type', 'Crop Type',\n",
      "       'Nitrogen', 'Potassium', 'Phosphorous', 'Fertilizer Name'],\n",
      "      dtype='object')\n"
     ]
    }
   ],
   "source": [
    "print(df.columns)\n",
    "print(df_old.columns)"
   ]
  },
  {
   "cell_type": "code",
   "execution_count": 107,
   "id": "4ba6358b-8089-42b6-9369-6178b0089f32",
   "metadata": {},
   "outputs": [
    {
     "data": {
      "text/plain": [
       "array([[<Axes: title={'center': 'Temparature'}>,\n",
       "        <Axes: title={'center': 'Humidity'}>],\n",
       "       [<Axes: title={'center': 'Moisture'}>,\n",
       "        <Axes: title={'center': 'Nitrogen'}>],\n",
       "       [<Axes: title={'center': 'Potassium'}>,\n",
       "        <Axes: title={'center': 'Phosphorous'}>]], dtype=object)"
      ]
     },
     "execution_count": 107,
     "metadata": {},
     "output_type": "execute_result"
    },
    {
     "data": {
      "image/png": "[encoded data removed]",
      "text/plain": [
       "<Figure size 2000x1000 with 6 Axes>"
      ]
     },
     "metadata": {},
     "output_type": "display_data"
    }
   ],
   "source": [
    "df_old.hist(bins=100, figsize=(20,10))"
   ]
  },
  {
   "cell_type": "markdown",
   "id": "dbbe9648-523e-4224-a5b1-9e90f8ea3fd6",
   "metadata": {},
   "source": [
    "## Try with df data"
   ]
  },
  {
   "cell_type": "code",
   "execution_count": 108,
   "id": "47c9f526-b155-4c63-a98a-85614118f575",
   "metadata": {},
   "outputs": [
    {
     "name": "stdout",
     "output_type": "stream",
     "text": [
      "Index(['Nitrogen', 'Phosphorus', 'Potassium', 'Temperature', 'Humidity',\n",
      "       'pH_Value', 'Rainfall', 'Crop'],\n",
      "      dtype='object')\n"
     ]
    }
   ],
   "source": [
    "print(df.columns)"
   ]
  },
  {
   "cell_type": "code",
   "execution_count": 109,
   "id": "073679f6-5e19-457d-b644-ba746d9113b1",
   "metadata": {},
   "outputs": [
    {
     "name": "stdout",
     "output_type": "stream",
     "text": [
      "['Nitrogen', 'Phosphorus', 'Potassium', 'Temperature', 'Humidity', 'pH_Value', 'Rainfall']\n",
      "['Crop']\n",
      "X1 Shape:  (2200, 7)\n",
      "Y1 Shape:  (2200, 1)\n"
     ]
    }
   ],
   "source": [
    "x1_feature = ['Nitrogen','Phosphorus','Potassium','Temperature', 'Humidity', 'pH_Value', 'Rainfall']\n",
    "y1_feature = ['Crop']\n",
    "\n",
    "print(x1_feature)\n",
    "print(y1_feature)\n",
    "\n",
    "x1 = df.loc[:, x1_feature].values\n",
    "y1 = df.loc[:, y1_feature].values\n",
    "\n",
    "print(\"X1 Shape: \" , x1.shape)\n",
    "print(\"Y1 Shape: \" , y1.shape)"
   ]
  },
  {
   "cell_type": "code",
   "execution_count": 110,
   "id": "706b06c1-7ec4-477d-8fbd-1319c45985d6",
   "metadata": {},
   "outputs": [
    {
     "data": {
      "text/plain": [
       "array([[<Axes: title={'center': 'Nitrogen'}>,\n",
       "        <Axes: title={'center': 'Phosphorus'}>,\n",
       "        <Axes: title={'center': 'Potassium'}>],\n",
       "       [<Axes: title={'center': 'Temperature'}>,\n",
       "        <Axes: title={'center': 'Humidity'}>,\n",
       "        <Axes: title={'center': 'pH_Value'}>],\n",
       "       [<Axes: title={'center': 'Rainfall'}>, <Axes: >, <Axes: >]],\n",
       "      dtype=object)"
      ]
     },
     "execution_count": 110,
     "metadata": {},
     "output_type": "execute_result"
    },
    {
     "data": {
      "image/png": "[encoded data removed]",
      "text/plain": [
       "<Figure size 2000x1000 with 9 Axes>"
      ]
     },
     "metadata": {},
     "output_type": "display_data"
    }
   ],
   "source": [
    "df.hist(bins=100, figsize=(20,10))"
   ]
  },
  {
   "cell_type": "code",
   "execution_count": 111,
   "id": "96706b12-a36b-441c-b90f-36fd980de607",
   "metadata": {},
   "outputs": [
    {
     "name": "stdout",
     "output_type": "stream",
     "text": [
      "X_train shape :  (1540, 7)\n",
      "X_test shape :  (660, 7)\n",
      "Y_train shape :  (1540, 1)\n",
      "Y_test shape :  (660, 1)\n"
     ]
    }
   ],
   "source": [
    "# Task 3: Split the dataset (both X and y) into training set and test set using the train_test_split() function\n",
    "\n",
    "X_train, X_test, Y_train, Y_test = train_test_split(x1, y1, test_size=0.3, random_state=0)\n",
    "\n",
    "\n",
    "print(\"X_train shape : \" , X_train.shape)\n",
    "print(\"X_test shape : \" , X_test.shape)\n",
    "print(\"Y_train shape : \" , Y_train.shape)\n",
    "print(\"Y_test shape : \" , Y_test.shape)"
   ]
  },
  {
   "cell_type": "code",
   "execution_count": 112,
   "id": "714f5d1d-612f-4d2a-b4e5-794361fac52d",
   "metadata": {},
   "outputs": [
    {
     "name": "stdout",
     "output_type": "stream",
     "text": [
      "|--- Potassium <= 140.00\n",
      "|   |--- Humidity <= 27.98\n",
      "|   |   |--- pH_Value <= 5.98\n",
      "|   |   |   |--- class: KidneyBeans\n",
      "|   |   |--- pH_Value >  5.98\n",
      "|   |   |   |--- class: ChickPea\n",
      "|   |--- Humidity >  27.98\n",
      "|   |   |--- Rainfall <= 30.18\n",
      "|   |   |   |--- class: Muskmelon\n",
      "|   |   |--- Rainfall >  30.18\n",
      "|   |   |   |--- Humidity <= 73.64\n",
      "|   |   |   |   |--- Nitrogen <= 59.50\n",
      "|   |   |   |   |   |--- Rainfall <= 82.08\n",
      "|   |   |   |   |   |   |--- Rainfall <= 59.37\n",
      "|   |   |   |   |   |   |   |--- Humidity <= 60.03\n",
      "|   |   |   |   |   |   |   |   |--- class: MothBeans\n",
      "|   |   |   |   |   |   |   |--- Humidity >  60.03\n",
      "|   |   |   |   |   |   |   |   |--- Phosphorus <= 52.00\n",
      "|   |   |   |   |   |   |   |   |   |--- class: MothBeans\n",
      "|   |   |   |   |   |   |   |   |--- Phosphorus >  52.00\n",
      "|   |   |   |   |   |   |   |   |   |--- Temperature <= 30.17\n",
      "|   |   |   |   |   |   |   |   |   |   |--- class: Lentil\n",
      "|   |   |   |   |   |   |   |   |   |--- Temperature >  30.17\n",
      "|   |   |   |   |   |   |   |   |   |   |--- class: MothBeans\n",
      "|   |   |   |   |   |   |--- Rainfall >  59.37\n",
      "|   |   |   |   |   |   |   |--- Phosphorus <= 57.50\n",
      "|   |   |   |   |   |   |   |   |--- Humidity <= 63.89\n",
      "|   |   |   |   |   |   |   |   |   |--- class: MothBeans\n",
      "|   |   |   |   |   |   |   |   |--- Humidity >  63.89\n",
      "|   |   |   |   |   |   |   |   |   |--- class: Blackgram\n",
      "|   |   |   |   |   |   |   |--- Phosphorus >  57.50\n",
      "|   |   |   |   |   |   |   |   |--- Nitrogen <= 14.50\n",
      "|   |   |   |   |   |   |   |   |   |--- class: MothBeans\n",
      "|   |   |   |   |   |   |   |   |--- Nitrogen >  14.50\n",
      "|   |   |   |   |   |   |   |   |   |--- class: Blackgram\n",
      "|   |   |   |   |   |--- Rainfall >  82.08\n",
      "|   |   |   |   |   |   |--- Phosphorus <= 47.50\n",
      "|   |   |   |   |   |   |   |--- class: Mango\n",
      "|   |   |   |   |   |   |--- Phosphorus >  47.50\n",
      "|   |   |   |   |   |   |   |--- class: PigeonPeas\n",
      "|   |   |   |   |--- Nitrogen >  59.50\n",
      "|   |   |   |   |   |--- Rainfall <= 112.45\n",
      "|   |   |   |   |   |   |--- class: Maize\n",
      "|   |   |   |   |   |--- Rainfall >  112.45\n",
      "|   |   |   |   |   |   |--- Humidity <= 70.42\n",
      "|   |   |   |   |   |   |   |--- class: Coffee\n",
      "|   |   |   |   |   |   |--- Humidity >  70.42\n",
      "|   |   |   |   |   |   |   |--- class: Jute\n",
      "|   |   |   |--- Humidity >  73.64\n",
      "|   |   |   |   |--- Phosphorus <= 32.50\n",
      "|   |   |   |   |   |--- Rainfall <= 80.23\n",
      "|   |   |   |   |   |   |--- class: Watermelon\n",
      "|   |   |   |   |   |--- Rainfall >  80.23\n",
      "|   |   |   |   |   |   |--- Rainfall <= 125.24\n",
      "|   |   |   |   |   |   |   |--- Potassium <= 25.00\n",
      "|   |   |   |   |   |   |   |   |--- class: Orange\n",
      "|   |   |   |   |   |   |   |--- Potassium >  25.00\n",
      "|   |   |   |   |   |   |   |   |--- class: Pomegranate\n",
      "|   |   |   |   |   |   |--- Rainfall >  125.24\n",
      "|   |   |   |   |   |   |   |--- class: Coconut\n",
      "|   |   |   |   |--- Phosphorus >  32.50\n",
      "|   |   |   |   |   |--- Potassium <= 30.00\n",
      "|   |   |   |   |   |   |--- Nitrogen <= 99.00\n",
      "|   |   |   |   |   |   |   |--- Humidity <= 77.43\n",
      "|   |   |   |   |   |   |   |   |--- class: Maize\n",
      "|   |   |   |   |   |   |   |--- Humidity >  77.43\n",
      "|   |   |   |   |   |   |   |   |--- class: MungBean\n",
      "|   |   |   |   |   |   |--- Nitrogen >  99.00\n",
      "|   |   |   |   |   |   |   |--- class: Cotton\n",
      "|   |   |   |   |   |--- Potassium >  30.00\n",
      "|   |   |   |   |   |   |--- Phosphorus <= 69.50\n",
      "|   |   |   |   |   |   |   |--- Humidity <= 89.53\n",
      "|   |   |   |   |   |   |   |   |--- Rainfall <= 200.34\n",
      "|   |   |   |   |   |   |   |   |   |--- pH_Value <= 6.01\n",
      "|   |   |   |   |   |   |   |   |   |   |--- class: Rice\n",
      "|   |   |   |   |   |   |   |   |   |--- pH_Value >  6.01\n",
      "|   |   |   |   |   |   |   |   |   |   |--- Temperature <= 22.89\n",
      "|   |   |   |   |   |   |   |   |   |   |   |--- class: Rice\n",
      "|   |   |   |   |   |   |   |   |   |   |--- Temperature >  22.89\n",
      "|   |   |   |   |   |   |   |   |   |   |   |--- truncated branch of depth 5\n",
      "|   |   |   |   |   |   |   |   |--- Rainfall >  200.34\n",
      "|   |   |   |   |   |   |   |   |   |--- class: Rice\n",
      "|   |   |   |   |   |   |   |--- Humidity >  89.53\n",
      "|   |   |   |   |   |   |   |   |--- class: Papaya\n",
      "|   |   |   |   |   |   |--- Phosphorus >  69.50\n",
      "|   |   |   |   |   |   |   |--- Humidity <= 87.84\n",
      "|   |   |   |   |   |   |   |   |--- class: Banana\n",
      "|   |   |   |   |   |   |   |--- Humidity >  87.84\n",
      "|   |   |   |   |   |   |   |   |--- class: Papaya\n",
      "|--- Potassium >  140.00\n",
      "|   |--- Rainfall <= 87.47\n",
      "|   |   |--- class: Grapes\n",
      "|   |--- Rainfall >  87.47\n",
      "|   |   |--- class: Apple\n",
      "\n"
     ]
    }
   ],
   "source": [
    "#Task 4: create and train the DT Model with maximum tree depth = 3.\n",
    "# more information about the sklearn DecisionTreeClassifier can be found here\n",
    "# https://scikit-learn.org/stable/modules/gener\n",
    "\n",
    "from sklearn.tree import DecisionTreeClassifier\n",
    "\n",
    "decisionTree_model = DecisionTreeClassifier(random_state=0, max_depth=15)\n",
    "decisionTree_model = decisionTree_model.fit(X_train, Y_train)\n",
    "\n",
    "# print the tree structure using the export_text() function, more about this function is found here\n",
    "# https://scikit-learn.org/stable/modules/generated/sklearn.tree.export_text.html\n",
    "\n",
    "tree = export_text(decisionTree_model, feature_names = x1_feature )\n",
    "print(tree)"
   ]
  },
  {
   "cell_type": "code",
   "execution_count": 113,
   "id": "2a3658cb-9e9a-4436-9999-a9d3b79c659b",
   "metadata": {},
   "outputs": [
    {
     "name": "stdout",
     "output_type": "stream",
     "text": [
      "Train Accuracy Model_DT:  1.0\n",
      "Test Accuracy:  0.9803030303030303\n",
      "Accuracy of the Decision tree model on the test set: 98.03%\n"
     ]
    }
   ],
   "source": [
    "#Task 5: use the DT model to predict the output for the test dataset and print the accuracy of the predicted values\n",
    "# print the accuracy\n",
    "\n",
    "Y_pred = decisionTree_model.predict(X_test)\n",
    "# print(Y_pred)\n",
    "\n",
    "print(\"Train Accuracy Model_DT: \", decisionTree_model.score(X_train, Y_train))\n",
    "dt_accuracy = metrics.accuracy_score(Y_test, Y_pred)\n",
    "\n",
    "print(\"Test Accuracy: \",dt_accuracy)\n",
    "print(f'Accuracy of the Decision tree model on the test set: {dt_accuracy * 100:.2f}%')"
   ]
  },
  {
   "cell_type": "code",
   "execution_count": 114,
   "id": "059adb1b-83e0-444a-9312-b05d9a2689ed",
   "metadata": {},
   "outputs": [
    {
     "name": "stdout",
     "output_type": "stream",
     "text": [
      "X training data:\n",
      " [[ 93.          56.          42.          23.85724032  82.22572988\n",
      "    7.3827626  195.0948311 ]\n",
      " [ 82.          25.          51.          24.31334971  87.47409052\n",
      "    6.07420962  48.11248366]\n",
      " [  4.           6.           7.          23.01014302  91.11764246\n",
      "    6.70888967 112.6738296 ]\n",
      " [  7.          63.          24.          22.95458237  24.03553105\n",
      "    5.85861787 107.7315386 ]\n",
      " [ 13.          23.           6.          23.96147583  90.26408017\n",
      "    7.36533811 102.6958703 ]]\n",
      "\n",
      "\n",
      "Y training data:\n",
      " ['Rice' 'Watermelon' 'Orange' 'KidneyBeans' 'Orange']\n",
      "\n",
      "\n",
      "X test data:\n",
      " [[105.          14.          50.          26.2148837   87.6883982\n",
      "    6.41905219  59.65590798]\n",
      " [ 91.          12.          46.          24.64458469  85.49938185\n",
      "    6.34394252  48.31219031]\n",
      " [ 14.         121.         203.           9.72445761  83.74765639\n",
      "    6.15868941  74.46411148]\n",
      " [ 52.          73.          79.          17.25769499  18.74943955\n",
      "    7.84033939  94.00287214]\n",
      " [ 32.          66.          17.          34.9466155   65.26774011\n",
      "    7.16235764  70.1415139 ]]\n",
      "\n",
      "\n",
      "Y test data:\n",
      " ['Watermelon' 'Watermelon' 'Grapes' 'ChickPea' 'Blackgram']\n",
      "\n",
      "\n",
      "\n",
      " --- Going to predict --- \n",
      "\n",
      "Y test data:\n",
      " ['Watermelon' 'Watermelon' 'Grapes' 'ChickPea' 'Blackgram']\n",
      "\n",
      "\n",
      "Y predict data:\n",
      " ['Watermelon' 'Watermelon' 'Grapes' 'ChickPea' 'Blackgram']\n",
      "\n",
      "\n",
      " --- Accuracy --- \n",
      "\n",
      "Accuracy of the Random Forest model on the test set: 99.39%\n"
     ]
    }
   ],
   "source": [
    "#Task 6: Create a RandomForest Classifier with 100 trees. more about this can be found here\n",
    "# https://scikit-learn.org/stable/modules/generated/sklearn.ensemble.RandomForestClassifier.html\n",
    "\n",
    "from sklearn.ensemble import RandomForestClassifier\n",
    "from sklearn.metrics import accuracy_score\n",
    "\n",
    "# Flattern Y_train and Y_test to 1D array.\n",
    "# In scikit-learn, the target variable y is expected to be a one-dimensional array with shape (n_samples,). \n",
    "# However, when using pandas DataFrames or Series, y might have a shape of (n_samples, 1), which is a column vector. \n",
    "# This can lead to warnings or errors during model fitting. To ensure compatibility and avoid such issues, \n",
    "# it's recommended to flatten y into a one-dimensional array using the .ravel() method.\n",
    "Y_train = Y_train.ravel()\n",
    "Y_test = Y_test.ravel()\n",
    "\n",
    "print(\"X training data:\\n\", X_train[:5])\n",
    "print(\"\\n\")\n",
    "print(\"Y training data:\\n\", Y_train[:5])\n",
    "print(\"\\n\")\n",
    "print(\"X test data:\\n\", X_test[:5])\n",
    "print(\"\\n\")\n",
    "print(\"Y test data:\\n\", Y_test[:5])\n",
    "print(\"\\n\")\n",
    "\n",
    "print(\"\\n --- Going to predict --- \\n\")\n",
    "\n",
    "# # Create the model - Random Forest\n",
    "rf_Model = RandomForestClassifier(n_estimators=100, random_state=0)\n",
    "\n",
    "# # Fit the model with data\n",
    "rf_Model = rf_Model.fit(X_train, Y_train)\n",
    "\n",
    "# # Print prediction\n",
    "y_predict_rf = rf_Model.predict(X_test)\n",
    "# print(y_predict_rf)\n",
    "# print(\"\\n\")\n",
    "\n",
    "print(\"Y test data:\\n\", Y_test[:5])\n",
    "print(\"\\n\")\n",
    "print(\"Y predict data:\\n\", y_predict_rf[:5])\n",
    "print(\"\\n\")\n",
    "\n",
    "print(\" --- Accuracy --- \\n\")\n",
    "\n",
    "rf_accuracy = accuracy_score(Y_test, y_predict_rf)\n",
    "# # print(accuracy)\n",
    "print(f'Accuracy of the Random Forest model on the test set: {rf_accuracy * 100:.2f}%')"
   ]
  },
  {
   "cell_type": "markdown",
   "id": "a0454157-0023-4102-9448-691437f7fded",
   "metadata": {},
   "source": [
    "## Try with df_old Data"
   ]
  },
  {
   "cell_type": "code",
   "execution_count": 224,
   "id": "27e86c96-8d74-4166-8593-b254c98f6cb8",
   "metadata": {},
   "outputs": [
    {
     "data": {
      "text/plain": [
       "array([[<Axes: title={'center': 'Temparature'}>,\n",
       "        <Axes: title={'center': 'Humidity'}>],\n",
       "       [<Axes: title={'center': 'Moisture'}>,\n",
       "        <Axes: title={'center': 'Nitrogen'}>],\n",
       "       [<Axes: title={'center': 'Potassium'}>,\n",
       "        <Axes: title={'center': 'Phosphorous'}>]], dtype=object)"
      ]
     },
     "execution_count": 224,
     "metadata": {},
     "output_type": "execute_result"
    },
    {
     "data": {
      "image/png": "[encoded data removed]",
      "text/plain": [
       "<Figure size 2000x1000 with 6 Axes>"
      ]
     },
     "metadata": {},
     "output_type": "display_data"
    }
   ],
   "source": [
    "df_old = pd.read_csv(\"crop_and_soil_dataSet.csv\")\n",
    "df_old.head()\n",
    "df_old.hist(figsize=(20,10), bins=100)"
   ]
  },
  {
   "cell_type": "code",
   "execution_count": 225,
   "id": "9189db7e-316e-476f-a6bf-cb8c91e76d03",
   "metadata": {},
   "outputs": [
    {
     "name": "stdout",
     "output_type": "stream",
     "text": [
      "Index(['Temparature', 'Humidity', 'Moisture', 'Soil Type', 'Crop Type',\n",
      "       'Nitrogen', 'Potassium', 'Phosphorous', 'Fertilizer Name'],\n",
      "      dtype='object')\n"
     ]
    }
   ],
   "source": [
    "print(df_old.columns)"
   ]
  },
  {
   "cell_type": "code",
   "execution_count": 226,
   "id": "7fa500f6-1ba2-469a-987d-c607a2e4bc07",
   "metadata": {},
   "outputs": [
    {
     "data": {
      "text/plain": [
       "Temparature        float64\n",
       "Humidity           float64\n",
       "Moisture           float64\n",
       "Soil Type           object\n",
       "Crop Type           object\n",
       "Nitrogen             int64\n",
       "Potassium            int64\n",
       "Phosphorous          int64\n",
       "Fertilizer Name     object\n",
       "dtype: object"
      ]
     },
     "execution_count": 226,
     "metadata": {},
     "output_type": "execute_result"
    }
   ],
   "source": [
    "df_old.dtypes"
   ]
  },
  {
   "cell_type": "code",
   "execution_count": 227,
   "id": "bd96c3ef-14c0-4b20-a689-e2957e54743e",
   "metadata": {},
   "outputs": [],
   "source": [
    "# df_old['tem_moi_avg'] = (df_old['Humidity'] + df_old['Moisture'])/2\n",
    "# cc = 1\n",
    "# print(df_old['Humidity'][:cc])\n",
    "# print(df_old['Moisture'][:cc])\n",
    "# print(df_old['tem_moi_avg'][:cc])"
   ]
  },
  {
   "cell_type": "code",
   "execution_count": 228,
   "id": "069ea344-f3c9-4c7e-b32c-a15fe6a86973",
   "metadata": {},
   "outputs": [
    {
     "name": "stdout",
     "output_type": "stream",
     "text": [
      "Temparature        0\n",
      "Humidity           0\n",
      "Moisture           0\n",
      "Soil Type          0\n",
      "Crop Type          0\n",
      "Nitrogen           0\n",
      "Potassium          0\n",
      "Phosphorous        0\n",
      "Fertilizer Name    0\n",
      "dtype: int64\n"
     ]
    }
   ],
   "source": [
    "count = df_old.isna().sum()\n",
    "# count = df_old.duplicated().sum()\n",
    "print(count)"
   ]
  },
  {
   "cell_type": "code",
   "execution_count": 229,
   "id": "3025c400-cce0-432b-9e63-d416d1d7f60e",
   "metadata": {},
   "outputs": [],
   "source": [
    "# df_old.dtypes"
   ]
  },
  {
   "cell_type": "code",
   "execution_count": 230,
   "id": "df690033-a4fe-4e25-9af5-9611c6c2114b",
   "metadata": {},
   "outputs": [
    {
     "data": {
      "text/plain": [
       "Index(['Temparature', 'Humidity', 'Moisture', 'Soil Type', 'Crop Type',\n",
       "       'Nitrogen', 'Potassium', 'Phosphorous', 'Fertilizer Name'],\n",
       "      dtype='object')"
      ]
     },
     "execution_count": 230,
     "metadata": {},
     "output_type": "execute_result"
    }
   ],
   "source": [
    "df_old.columns"
   ]
  },
  {
   "cell_type": "code",
   "execution_count": 231,
   "id": "4ea91bfd-86fb-4eae-9dbe-4c952ffe782d",
   "metadata": {},
   "outputs": [],
   "source": [
    "# df_old.hist(figsize=(20,20), bins=100)"
   ]
  },
  {
   "cell_type": "code",
   "execution_count": 245,
   "id": "d664f8ff-e2c1-4b4e-9d6e-cf381a5cfb7f",
   "metadata": {},
   "outputs": [
    {
     "data": {
      "text/plain": [
       "np.int64(0)"
      ]
     },
     "execution_count": 245,
     "metadata": {},
     "output_type": "execute_result"
    }
   ],
   "source": [
    "df_old['Potassium'].isna().sum()"
   ]
  },
  {
   "cell_type": "code",
   "execution_count": 246,
   "id": "4e25979f-daaf-43c0-ad3e-28255f66526c",
   "metadata": {},
   "outputs": [
    {
     "data": {
      "text/plain": [
       "<Axes: xlabel='index', ylabel='Phosphorous'>"
      ]
     },
     "execution_count": 246,
     "metadata": {},
     "output_type": "execute_result"
    },
    {
     "data": {
      "image/png": "[encoded data removed]",
      "text/plain": [
       "<Figure size 1000x500 with 1 Axes>"
      ]
     },
     "metadata": {},
     "output_type": "display_data"
    }
   ],
   "source": [
    "df_old.reset_index().plot(kind='scatter', y='Phosphorous', x='index', figsize=(10,5))"
   ]
  },
  {
   "cell_type": "code",
   "execution_count": 260,
   "id": "428d2a95-4905-4bb0-b0c2-3e9040658335",
   "metadata": {},
   "outputs": [
    {
     "data": {
      "text/plain": [
       "<Axes: xlabel='index'>"
      ]
     },
     "execution_count": 260,
     "metadata": {},
     "output_type": "execute_result"
    },
    {
     "data": {
      "image/png": "[encoded data removed]",
      "text/plain": [
       "<Figure size 1000x500 with 1 Axes>"
      ]
     },
     "metadata": {},
     "output_type": "display_data"
    }
   ],
   "source": [
    "df_old.reset_index().plot(kind='line', y='Potassium', x='index', figsize=(10,5))"
   ]
  },
  {
   "cell_type": "markdown",
   "id": "099043d0-2cc7-4bff-9864-c84604f0fa85",
   "metadata": {},
   "source": [
    "## Feature Engineerig for Phosphorous\n",
    "### Change Phosphorous\n",
    "Phosphorous can not be 0. This datase have almost 1800 sample out of 8000 samples which have 0 values. I am going to replace then with interpolate values while sorting them as the general combination."
   ]
  },
  {
   "cell_type": "code",
   "execution_count": 448,
   "id": "93d678c2-d5aa-44c6-99b6-2baab5cb9b9e",
   "metadata": {},
   "outputs": [],
   "source": [
    "# Sort the DataFrame by the 'Temperature' column\n",
    "df_sorted = df_old.sort_values(by='Temparature')\n",
    "# df_sorted = df_old.sort_values(by='Temparature', ascending=False)\n",
    "\n",
    "# print(df_sorted['Phosphorous'].head)\n",
    "# print(df_sorted['Phosphorous'].value_counts())\n",
    "\n",
    "# Plot both 'Temperature' and 'Potassium' on the same graph\n",
    "# df_sorted.reset_index().plot(kind='line', y=['Temparature', 'Potassium'], x='index', figsize=(10,5))"
   ]
  },
  {
   "cell_type": "code",
   "execution_count": 449,
   "id": "1de73fac-1777-48bf-ac3f-36fc3052777a",
   "metadata": {},
   "outputs": [
    {
     "data": {
      "text/html": [
       "<div>\n",
       "<style scoped>\n",
       "    .dataframe tbody tr th:only-of-type {\n",
       "        vertical-align: middle;\n",
       "    }\n",
       "\n",
       "    .dataframe tbody tr th {\n",
       "        vertical-align: top;\n",
       "    }\n",
       "\n",
       "    .dataframe thead th {\n",
       "        text-align: right;\n",
       "    }\n",
       "</style>\n",
       "<table border=\"1\" class=\"dataframe\">\n",
       "  <thead>\n",
       "    <tr style=\"text-align: right;\">\n",
       "      <th></th>\n",
       "      <th>Temparature</th>\n",
       "      <th>Humidity</th>\n",
       "      <th>Moisture</th>\n",
       "      <th>Soil Type</th>\n",
       "      <th>Crop Type</th>\n",
       "      <th>Nitrogen</th>\n",
       "      <th>Potassium</th>\n",
       "      <th>Phosphorous</th>\n",
       "      <th>Fertilizer Name</th>\n",
       "      <th>temp_sort_Phosphorous</th>\n",
       "    </tr>\n",
       "  </thead>\n",
       "  <tbody>\n",
       "    <tr>\n",
       "      <th>3997</th>\n",
       "      <td>20.00</td>\n",
       "      <td>55.62</td>\n",
       "      <td>31.35</td>\n",
       "      <td>Loamy</td>\n",
       "      <td>Barley</td>\n",
       "      <td>9</td>\n",
       "      <td>20</td>\n",
       "      <td>16</td>\n",
       "      <td>17-17-17</td>\n",
       "      <td>16</td>\n",
       "    </tr>\n",
       "    <tr>\n",
       "      <th>2581</th>\n",
       "      <td>20.03</td>\n",
       "      <td>52.64</td>\n",
       "      <td>70.00</td>\n",
       "      <td>Sandy</td>\n",
       "      <td>Sugarcane</td>\n",
       "      <td>13</td>\n",
       "      <td>0</td>\n",
       "      <td>13</td>\n",
       "      <td>20-20</td>\n",
       "      <td>13</td>\n",
       "    </tr>\n",
       "    <tr>\n",
       "      <th>7411</th>\n",
       "      <td>20.05</td>\n",
       "      <td>52.70</td>\n",
       "      <td>59.86</td>\n",
       "      <td>Black</td>\n",
       "      <td>Oil seeds</td>\n",
       "      <td>36</td>\n",
       "      <td>0</td>\n",
       "      <td>0</td>\n",
       "      <td>10-26-26</td>\n",
       "      <td>0</td>\n",
       "    </tr>\n",
       "    <tr>\n",
       "      <th>4913</th>\n",
       "      <td>20.09</td>\n",
       "      <td>57.36</td>\n",
       "      <td>36.23</td>\n",
       "      <td>Clayey</td>\n",
       "      <td>Sugarcane</td>\n",
       "      <td>10</td>\n",
       "      <td>17</td>\n",
       "      <td>18</td>\n",
       "      <td>14-35-14</td>\n",
       "      <td>18</td>\n",
       "    </tr>\n",
       "    <tr>\n",
       "      <th>4802</th>\n",
       "      <td>20.09</td>\n",
       "      <td>49.43</td>\n",
       "      <td>29.64</td>\n",
       "      <td>Black</td>\n",
       "      <td>Pulses</td>\n",
       "      <td>17</td>\n",
       "      <td>11</td>\n",
       "      <td>11</td>\n",
       "      <td>14-35-14</td>\n",
       "      <td>11</td>\n",
       "    </tr>\n",
       "  </tbody>\n",
       "</table>\n",
       "</div>"
      ],
      "text/plain": [
       "      Temparature  Humidity  Moisture Soil Type  Crop Type  Nitrogen  \\\n",
       "3997        20.00     55.62     31.35     Loamy     Barley         9   \n",
       "2581        20.03     52.64     70.00     Sandy  Sugarcane        13   \n",
       "7411        20.05     52.70     59.86     Black  Oil seeds        36   \n",
       "4913        20.09     57.36     36.23    Clayey  Sugarcane        10   \n",
       "4802        20.09     49.43     29.64     Black     Pulses        17   \n",
       "\n",
       "      Potassium  Phosphorous Fertilizer Name  temp_sort_Phosphorous  \n",
       "3997         20           16        17-17-17                     16  \n",
       "2581          0           13           20-20                     13  \n",
       "7411          0            0        10-26-26                      0  \n",
       "4913         17           18        14-35-14                     18  \n",
       "4802         11           11        14-35-14                     11  "
      ]
     },
     "execution_count": 449,
     "metadata": {},
     "output_type": "execute_result"
    }
   ],
   "source": [
    "df_sorted['temp_sort_Phosphorous'] = df_sorted['Phosphorous']\n",
    "df_sorted.columns\n",
    "df_sorted.head()"
   ]
  },
  {
   "cell_type": "code",
   "execution_count": 450,
   "id": "f75af50c-ce49-4d05-a576-ef639d89b423",
   "metadata": {},
   "outputs": [],
   "source": [
    "import numpy as np\n",
    "\n",
    "# Replace values in 'temp_sort_Phosphorous' where 'Phosphorous' is 0 with NaN\n",
    "df_sorted['temp_sort_Phosphorous'] = df_sorted.apply(\n",
    "    lambda row: row['Phosphorous'] if row['Phosphorous'] != 0 else np.nan, axis=1\n",
    ")"
   ]
  },
  {
   "cell_type": "code",
   "execution_count": 451,
   "id": "177929b2-8421-45dd-a86a-9bbc9be8771c",
   "metadata": {},
   "outputs": [
    {
     "data": {
      "text/html": [
       "<div>\n",
       "<style scoped>\n",
       "    .dataframe tbody tr th:only-of-type {\n",
       "        vertical-align: middle;\n",
       "    }\n",
       "\n",
       "    .dataframe tbody tr th {\n",
       "        vertical-align: top;\n",
       "    }\n",
       "\n",
       "    .dataframe thead th {\n",
       "        text-align: right;\n",
       "    }\n",
       "</style>\n",
       "<table border=\"1\" class=\"dataframe\">\n",
       "  <thead>\n",
       "    <tr style=\"text-align: right;\">\n",
       "      <th></th>\n",
       "      <th>Temparature</th>\n",
       "      <th>Humidity</th>\n",
       "      <th>Moisture</th>\n",
       "      <th>Soil Type</th>\n",
       "      <th>Crop Type</th>\n",
       "      <th>Nitrogen</th>\n",
       "      <th>Potassium</th>\n",
       "      <th>Phosphorous</th>\n",
       "      <th>Fertilizer Name</th>\n",
       "      <th>temp_sort_Phosphorous</th>\n",
       "    </tr>\n",
       "  </thead>\n",
       "  <tbody>\n",
       "    <tr>\n",
       "      <th>3997</th>\n",
       "      <td>20.00</td>\n",
       "      <td>55.62</td>\n",
       "      <td>31.35</td>\n",
       "      <td>Loamy</td>\n",
       "      <td>Barley</td>\n",
       "      <td>9</td>\n",
       "      <td>20</td>\n",
       "      <td>16</td>\n",
       "      <td>17-17-17</td>\n",
       "      <td>16.0</td>\n",
       "    </tr>\n",
       "    <tr>\n",
       "      <th>2581</th>\n",
       "      <td>20.03</td>\n",
       "      <td>52.64</td>\n",
       "      <td>70.00</td>\n",
       "      <td>Sandy</td>\n",
       "      <td>Sugarcane</td>\n",
       "      <td>13</td>\n",
       "      <td>0</td>\n",
       "      <td>13</td>\n",
       "      <td>20-20</td>\n",
       "      <td>13.0</td>\n",
       "    </tr>\n",
       "    <tr>\n",
       "      <th>7411</th>\n",
       "      <td>20.05</td>\n",
       "      <td>52.70</td>\n",
       "      <td>59.86</td>\n",
       "      <td>Black</td>\n",
       "      <td>Oil seeds</td>\n",
       "      <td>36</td>\n",
       "      <td>0</td>\n",
       "      <td>0</td>\n",
       "      <td>10-26-26</td>\n",
       "      <td>NaN</td>\n",
       "    </tr>\n",
       "    <tr>\n",
       "      <th>4913</th>\n",
       "      <td>20.09</td>\n",
       "      <td>57.36</td>\n",
       "      <td>36.23</td>\n",
       "      <td>Clayey</td>\n",
       "      <td>Sugarcane</td>\n",
       "      <td>10</td>\n",
       "      <td>17</td>\n",
       "      <td>18</td>\n",
       "      <td>14-35-14</td>\n",
       "      <td>18.0</td>\n",
       "    </tr>\n",
       "    <tr>\n",
       "      <th>4802</th>\n",
       "      <td>20.09</td>\n",
       "      <td>49.43</td>\n",
       "      <td>29.64</td>\n",
       "      <td>Black</td>\n",
       "      <td>Pulses</td>\n",
       "      <td>17</td>\n",
       "      <td>11</td>\n",
       "      <td>11</td>\n",
       "      <td>14-35-14</td>\n",
       "      <td>11.0</td>\n",
       "    </tr>\n",
       "  </tbody>\n",
       "</table>\n",
       "</div>"
      ],
      "text/plain": [
       "      Temparature  Humidity  Moisture Soil Type  Crop Type  Nitrogen  \\\n",
       "3997        20.00     55.62     31.35     Loamy     Barley         9   \n",
       "2581        20.03     52.64     70.00     Sandy  Sugarcane        13   \n",
       "7411        20.05     52.70     59.86     Black  Oil seeds        36   \n",
       "4913        20.09     57.36     36.23    Clayey  Sugarcane        10   \n",
       "4802        20.09     49.43     29.64     Black     Pulses        17   \n",
       "\n",
       "      Potassium  Phosphorous Fertilizer Name  temp_sort_Phosphorous  \n",
       "3997         20           16        17-17-17                   16.0  \n",
       "2581          0           13           20-20                   13.0  \n",
       "7411          0            0        10-26-26                    NaN  \n",
       "4913         17           18        14-35-14                   18.0  \n",
       "4802         11           11        14-35-14                   11.0  "
      ]
     },
     "execution_count": 451,
     "metadata": {},
     "output_type": "execute_result"
    }
   ],
   "source": [
    "df_sorted.head()"
   ]
  },
  {
   "cell_type": "code",
   "execution_count": 452,
   "id": "625a4230-b25e-49ca-a97b-e387112be7f5",
   "metadata": {},
   "outputs": [
    {
     "data": {
      "text/html": [
       "<div>\n",
       "<style scoped>\n",
       "    .dataframe tbody tr th:only-of-type {\n",
       "        vertical-align: middle;\n",
       "    }\n",
       "\n",
       "    .dataframe tbody tr th {\n",
       "        vertical-align: top;\n",
       "    }\n",
       "\n",
       "    .dataframe thead th {\n",
       "        text-align: right;\n",
       "    }\n",
       "</style>\n",
       "<table border=\"1\" class=\"dataframe\">\n",
       "  <thead>\n",
       "    <tr style=\"text-align: right;\">\n",
       "      <th></th>\n",
       "      <th>Temparature</th>\n",
       "      <th>Humidity</th>\n",
       "      <th>Moisture</th>\n",
       "      <th>Soil Type</th>\n",
       "      <th>Crop Type</th>\n",
       "      <th>Nitrogen</th>\n",
       "      <th>Potassium</th>\n",
       "      <th>Phosphorous</th>\n",
       "      <th>Fertilizer Name</th>\n",
       "      <th>temp_sort_Phosphorous</th>\n",
       "    </tr>\n",
       "  </thead>\n",
       "  <tbody>\n",
       "    <tr>\n",
       "      <th>3997</th>\n",
       "      <td>20.00</td>\n",
       "      <td>55.62</td>\n",
       "      <td>31.35</td>\n",
       "      <td>Loamy</td>\n",
       "      <td>Barley</td>\n",
       "      <td>9</td>\n",
       "      <td>20</td>\n",
       "      <td>16</td>\n",
       "      <td>17-17-17</td>\n",
       "      <td>16.0</td>\n",
       "    </tr>\n",
       "    <tr>\n",
       "      <th>2581</th>\n",
       "      <td>20.03</td>\n",
       "      <td>52.64</td>\n",
       "      <td>70.00</td>\n",
       "      <td>Sandy</td>\n",
       "      <td>Sugarcane</td>\n",
       "      <td>13</td>\n",
       "      <td>0</td>\n",
       "      <td>13</td>\n",
       "      <td>20-20</td>\n",
       "      <td>13.0</td>\n",
       "    </tr>\n",
       "    <tr>\n",
       "      <th>7411</th>\n",
       "      <td>20.05</td>\n",
       "      <td>52.70</td>\n",
       "      <td>59.86</td>\n",
       "      <td>Black</td>\n",
       "      <td>Oil seeds</td>\n",
       "      <td>36</td>\n",
       "      <td>0</td>\n",
       "      <td>0</td>\n",
       "      <td>10-26-26</td>\n",
       "      <td>15.5</td>\n",
       "    </tr>\n",
       "    <tr>\n",
       "      <th>4913</th>\n",
       "      <td>20.09</td>\n",
       "      <td>57.36</td>\n",
       "      <td>36.23</td>\n",
       "      <td>Clayey</td>\n",
       "      <td>Sugarcane</td>\n",
       "      <td>10</td>\n",
       "      <td>17</td>\n",
       "      <td>18</td>\n",
       "      <td>14-35-14</td>\n",
       "      <td>18.0</td>\n",
       "    </tr>\n",
       "    <tr>\n",
       "      <th>4802</th>\n",
       "      <td>20.09</td>\n",
       "      <td>49.43</td>\n",
       "      <td>29.64</td>\n",
       "      <td>Black</td>\n",
       "      <td>Pulses</td>\n",
       "      <td>17</td>\n",
       "      <td>11</td>\n",
       "      <td>11</td>\n",
       "      <td>14-35-14</td>\n",
       "      <td>11.0</td>\n",
       "    </tr>\n",
       "  </tbody>\n",
       "</table>\n",
       "</div>"
      ],
      "text/plain": [
       "      Temparature  Humidity  Moisture Soil Type  Crop Type  Nitrogen  \\\n",
       "3997        20.00     55.62     31.35     Loamy     Barley         9   \n",
       "2581        20.03     52.64     70.00     Sandy  Sugarcane        13   \n",
       "7411        20.05     52.70     59.86     Black  Oil seeds        36   \n",
       "4913        20.09     57.36     36.23    Clayey  Sugarcane        10   \n",
       "4802        20.09     49.43     29.64     Black     Pulses        17   \n",
       "\n",
       "      Potassium  Phosphorous Fertilizer Name  temp_sort_Phosphorous  \n",
       "3997         20           16        17-17-17                   16.0  \n",
       "2581          0           13           20-20                   13.0  \n",
       "7411          0            0        10-26-26                   15.5  \n",
       "4913         17           18        14-35-14                   18.0  \n",
       "4802         11           11        14-35-14                   11.0  "
      ]
     },
     "execution_count": 452,
     "metadata": {},
     "output_type": "execute_result"
    }
   ],
   "source": [
    "df_sorted['temp_sort_Phosphorous'] = df_sorted['temp_sort_Phosphorous'].interpolate()\n",
    "df_sorted.head()"
   ]
  },
  {
   "cell_type": "code",
   "execution_count": 453,
   "id": "6385c0f1-4e70-46cf-86b5-52475f19b981",
   "metadata": {},
   "outputs": [],
   "source": [
    "# Sort the DataFrame by the 'Temperature' column\n",
    "df_sorted = df_sorted.sort_values(by='Nitrogen')"
   ]
  },
  {
   "cell_type": "code",
   "execution_count": 454,
   "id": "6a20f873-7fc3-46cd-89af-9c80b29c6082",
   "metadata": {},
   "outputs": [
    {
     "data": {
      "text/html": [
       "<div>\n",
       "<style scoped>\n",
       "    .dataframe tbody tr th:only-of-type {\n",
       "        vertical-align: middle;\n",
       "    }\n",
       "\n",
       "    .dataframe tbody tr th {\n",
       "        vertical-align: top;\n",
       "    }\n",
       "\n",
       "    .dataframe thead th {\n",
       "        text-align: right;\n",
       "    }\n",
       "</style>\n",
       "<table border=\"1\" class=\"dataframe\">\n",
       "  <thead>\n",
       "    <tr style=\"text-align: right;\">\n",
       "      <th></th>\n",
       "      <th>Temparature</th>\n",
       "      <th>Humidity</th>\n",
       "      <th>Moisture</th>\n",
       "      <th>Soil Type</th>\n",
       "      <th>Crop Type</th>\n",
       "      <th>Nitrogen</th>\n",
       "      <th>Potassium</th>\n",
       "      <th>Phosphorous</th>\n",
       "      <th>Fertilizer Name</th>\n",
       "      <th>temp_sort_Phosphorous</th>\n",
       "      <th>nitr_sort_Phosphorous</th>\n",
       "    </tr>\n",
       "  </thead>\n",
       "  <tbody>\n",
       "    <tr>\n",
       "      <th>3531</th>\n",
       "      <td>29.77</td>\n",
       "      <td>66.60</td>\n",
       "      <td>24.94</td>\n",
       "      <td>Loamy</td>\n",
       "      <td>Ground Nuts</td>\n",
       "      <td>0</td>\n",
       "      <td>21</td>\n",
       "      <td>15</td>\n",
       "      <td>DAP</td>\n",
       "      <td>15.0</td>\n",
       "      <td>15</td>\n",
       "    </tr>\n",
       "    <tr>\n",
       "      <th>4917</th>\n",
       "      <td>33.95</td>\n",
       "      <td>66.85</td>\n",
       "      <td>45.81</td>\n",
       "      <td>Loamy</td>\n",
       "      <td>Oil seeds</td>\n",
       "      <td>0</td>\n",
       "      <td>13</td>\n",
       "      <td>32</td>\n",
       "      <td>Urea</td>\n",
       "      <td>32.0</td>\n",
       "      <td>32</td>\n",
       "    </tr>\n",
       "    <tr>\n",
       "      <th>7448</th>\n",
       "      <td>29.14</td>\n",
       "      <td>69.95</td>\n",
       "      <td>21.50</td>\n",
       "      <td>Loamy</td>\n",
       "      <td>Ground Nuts</td>\n",
       "      <td>0</td>\n",
       "      <td>16</td>\n",
       "      <td>17</td>\n",
       "      <td>10-26-26</td>\n",
       "      <td>17.0</td>\n",
       "      <td>17</td>\n",
       "    </tr>\n",
       "    <tr>\n",
       "      <th>921</th>\n",
       "      <td>27.60</td>\n",
       "      <td>56.81</td>\n",
       "      <td>32.67</td>\n",
       "      <td>Sandy</td>\n",
       "      <td>Pulses</td>\n",
       "      <td>0</td>\n",
       "      <td>14</td>\n",
       "      <td>20</td>\n",
       "      <td>DAP</td>\n",
       "      <td>20.0</td>\n",
       "      <td>20</td>\n",
       "    </tr>\n",
       "    <tr>\n",
       "      <th>3820</th>\n",
       "      <td>32.81</td>\n",
       "      <td>55.45</td>\n",
       "      <td>48.08</td>\n",
       "      <td>Loamy</td>\n",
       "      <td>Millets</td>\n",
       "      <td>0</td>\n",
       "      <td>16</td>\n",
       "      <td>15</td>\n",
       "      <td>28-28</td>\n",
       "      <td>15.0</td>\n",
       "      <td>15</td>\n",
       "    </tr>\n",
       "  </tbody>\n",
       "</table>\n",
       "</div>"
      ],
      "text/plain": [
       "      Temparature  Humidity  Moisture Soil Type    Crop Type  Nitrogen  \\\n",
       "3531        29.77     66.60     24.94     Loamy  Ground Nuts         0   \n",
       "4917        33.95     66.85     45.81     Loamy    Oil seeds         0   \n",
       "7448        29.14     69.95     21.50     Loamy  Ground Nuts         0   \n",
       "921         27.60     56.81     32.67     Sandy       Pulses         0   \n",
       "3820        32.81     55.45     48.08     Loamy      Millets         0   \n",
       "\n",
       "      Potassium  Phosphorous Fertilizer Name  temp_sort_Phosphorous  \\\n",
       "3531         21           15             DAP                   15.0   \n",
       "4917         13           32            Urea                   32.0   \n",
       "7448         16           17        10-26-26                   17.0   \n",
       "921          14           20             DAP                   20.0   \n",
       "3820         16           15           28-28                   15.0   \n",
       "\n",
       "      nitr_sort_Phosphorous  \n",
       "3531                     15  \n",
       "4917                     32  \n",
       "7448                     17  \n",
       "921                      20  \n",
       "3820                     15  "
      ]
     },
     "execution_count": 454,
     "metadata": {},
     "output_type": "execute_result"
    }
   ],
   "source": [
    "df_sorted['nitr_sort_Phosphorous'] = df_sorted['Phosphorous']\n",
    "df_sorted.columns\n",
    "df_sorted.head()"
   ]
  },
  {
   "cell_type": "code",
   "execution_count": 455,
   "id": "da586f03-7358-4496-9605-cd53525e94d0",
   "metadata": {},
   "outputs": [],
   "source": [
    "import numpy as np\n",
    "\n",
    "# Replace values in 'temp_sort_Phosphorous' where 'Phosphorous' is 0 with NaN\n",
    "df_sorted['nitr_sort_Phosphorous'] = df_sorted.apply(\n",
    "    lambda row: row['Phosphorous'] if row['Phosphorous'] != 0 else np.nan, axis=1\n",
    ")"
   ]
  },
  {
   "cell_type": "code",
   "execution_count": 456,
   "id": "d5288a5c-2f71-453d-a6f3-3ec80ab80676",
   "metadata": {},
   "outputs": [
    {
     "data": {
      "text/html": [
       "<div>\n",
       "<style scoped>\n",
       "    .dataframe tbody tr th:only-of-type {\n",
       "        vertical-align: middle;\n",
       "    }\n",
       "\n",
       "    .dataframe tbody tr th {\n",
       "        vertical-align: top;\n",
       "    }\n",
       "\n",
       "    .dataframe thead th {\n",
       "        text-align: right;\n",
       "    }\n",
       "</style>\n",
       "<table border=\"1\" class=\"dataframe\">\n",
       "  <thead>\n",
       "    <tr style=\"text-align: right;\">\n",
       "      <th></th>\n",
       "      <th>Temparature</th>\n",
       "      <th>Humidity</th>\n",
       "      <th>Moisture</th>\n",
       "      <th>Soil Type</th>\n",
       "      <th>Crop Type</th>\n",
       "      <th>Nitrogen</th>\n",
       "      <th>Potassium</th>\n",
       "      <th>Phosphorous</th>\n",
       "      <th>Fertilizer Name</th>\n",
       "      <th>temp_sort_Phosphorous</th>\n",
       "      <th>nitr_sort_Phosphorous</th>\n",
       "    </tr>\n",
       "  </thead>\n",
       "  <tbody>\n",
       "    <tr>\n",
       "      <th>3531</th>\n",
       "      <td>29.77</td>\n",
       "      <td>66.60</td>\n",
       "      <td>24.94</td>\n",
       "      <td>Loamy</td>\n",
       "      <td>Ground Nuts</td>\n",
       "      <td>0</td>\n",
       "      <td>21</td>\n",
       "      <td>15</td>\n",
       "      <td>DAP</td>\n",
       "      <td>15.0</td>\n",
       "      <td>15.0</td>\n",
       "    </tr>\n",
       "    <tr>\n",
       "      <th>4917</th>\n",
       "      <td>33.95</td>\n",
       "      <td>66.85</td>\n",
       "      <td>45.81</td>\n",
       "      <td>Loamy</td>\n",
       "      <td>Oil seeds</td>\n",
       "      <td>0</td>\n",
       "      <td>13</td>\n",
       "      <td>32</td>\n",
       "      <td>Urea</td>\n",
       "      <td>32.0</td>\n",
       "      <td>32.0</td>\n",
       "    </tr>\n",
       "    <tr>\n",
       "      <th>7448</th>\n",
       "      <td>29.14</td>\n",
       "      <td>69.95</td>\n",
       "      <td>21.50</td>\n",
       "      <td>Loamy</td>\n",
       "      <td>Ground Nuts</td>\n",
       "      <td>0</td>\n",
       "      <td>16</td>\n",
       "      <td>17</td>\n",
       "      <td>10-26-26</td>\n",
       "      <td>17.0</td>\n",
       "      <td>17.0</td>\n",
       "    </tr>\n",
       "    <tr>\n",
       "      <th>921</th>\n",
       "      <td>27.60</td>\n",
       "      <td>56.81</td>\n",
       "      <td>32.67</td>\n",
       "      <td>Sandy</td>\n",
       "      <td>Pulses</td>\n",
       "      <td>0</td>\n",
       "      <td>14</td>\n",
       "      <td>20</td>\n",
       "      <td>DAP</td>\n",
       "      <td>20.0</td>\n",
       "      <td>20.0</td>\n",
       "    </tr>\n",
       "    <tr>\n",
       "      <th>3820</th>\n",
       "      <td>32.81</td>\n",
       "      <td>55.45</td>\n",
       "      <td>48.08</td>\n",
       "      <td>Loamy</td>\n",
       "      <td>Millets</td>\n",
       "      <td>0</td>\n",
       "      <td>16</td>\n",
       "      <td>15</td>\n",
       "      <td>28-28</td>\n",
       "      <td>15.0</td>\n",
       "      <td>15.0</td>\n",
       "    </tr>\n",
       "  </tbody>\n",
       "</table>\n",
       "</div>"
      ],
      "text/plain": [
       "      Temparature  Humidity  Moisture Soil Type    Crop Type  Nitrogen  \\\n",
       "3531        29.77     66.60     24.94     Loamy  Ground Nuts         0   \n",
       "4917        33.95     66.85     45.81     Loamy    Oil seeds         0   \n",
       "7448        29.14     69.95     21.50     Loamy  Ground Nuts         0   \n",
       "921         27.60     56.81     32.67     Sandy       Pulses         0   \n",
       "3820        32.81     55.45     48.08     Loamy      Millets         0   \n",
       "\n",
       "      Potassium  Phosphorous Fertilizer Name  temp_sort_Phosphorous  \\\n",
       "3531         21           15             DAP                   15.0   \n",
       "4917         13           32            Urea                   32.0   \n",
       "7448         16           17        10-26-26                   17.0   \n",
       "921          14           20             DAP                   20.0   \n",
       "3820         16           15           28-28                   15.0   \n",
       "\n",
       "      nitr_sort_Phosphorous  \n",
       "3531                   15.0  \n",
       "4917                   32.0  \n",
       "7448                   17.0  \n",
       "921                    20.0  \n",
       "3820                   15.0  "
      ]
     },
     "execution_count": 456,
     "metadata": {},
     "output_type": "execute_result"
    }
   ],
   "source": [
    "# df_sorted['nitr_sort_Phosphorous'] = df_sorted['nitr_sort_Phosphorous'].interpolate()\n",
    "df_sorted.head()"
   ]
  },
  {
   "cell_type": "code",
   "execution_count": 457,
   "id": "f186d791-53d5-4110-bbfb-3269b3b5b227",
   "metadata": {},
   "outputs": [
    {
     "name": "stdout",
     "output_type": "stream",
     "text": [
      "Index(['Temparature', 'Humidity', 'Moisture', 'Soil Type', 'Crop Type',\n",
      "       'Nitrogen', 'Potassium', 'Phosphorous', 'Fertilizer Name',\n",
      "       'temp_sort_Phosphorous', 'nitr_sort_Phosphorous',\n",
      "       'mois_sort_Phosphorous'],\n",
      "      dtype='object')\n",
      "\n",
      "      Temparature  Humidity  Moisture Soil Type  Crop Type  Nitrogen  \\\n",
      "6592        26.36     64.53      20.0     Black  Sugarcane         0   \n",
      "455         32.66     55.25      20.0       Red      Paddy         0   \n",
      "3229        28.93     58.65      20.0     Loamy  Sugarcane        13   \n",
      "1416        23.40     62.09      20.0    Clayey    Millets         9   \n",
      "4484        29.16     50.81      20.0     Black    Millets         7   \n",
      "\n",
      "      Potassium  Phosphorous Fertilizer Name  temp_sort_Phosphorous  \\\n",
      "6592         21           19        17-17-17                   19.0   \n",
      "455          13           16        10-26-26                   16.0   \n",
      "3229          2           37           20-20                   37.0   \n",
      "1416          3           38           20-20                   38.0   \n",
      "4484         16           12        17-17-17                   12.0   \n",
      "\n",
      "      nitr_sort_Phosphorous  mois_sort_Phosphorous  \n",
      "6592                   19.0                     19  \n",
      "455                    16.0                     16  \n",
      "3229                   37.0                     37  \n",
      "1416                   38.0                     38  \n",
      "4484                   12.0                     12  \n",
      "      Temparature  Humidity  Moisture Soil Type  Crop Type  Nitrogen  \\\n",
      "6592        26.36     64.53      20.0     Black  Sugarcane         0   \n",
      "455         32.66     55.25      20.0       Red      Paddy         0   \n",
      "3229        28.93     58.65      20.0     Loamy  Sugarcane        13   \n",
      "1416        23.40     62.09      20.0    Clayey    Millets         9   \n",
      "4484        29.16     50.81      20.0     Black    Millets         7   \n",
      "\n",
      "      Potassium  Phosphorous Fertilizer Name  temp_sort_Phosphorous  \\\n",
      "6592         21           19        17-17-17                   19.0   \n",
      "455          13           16        10-26-26                   16.0   \n",
      "3229          2           37           20-20                   37.0   \n",
      "1416          3           38           20-20                   38.0   \n",
      "4484         16           12        17-17-17                   12.0   \n",
      "\n",
      "      nitr_sort_Phosphorous  mois_sort_Phosphorous  \n",
      "6592                   19.0                   19.0  \n",
      "455                    16.0                   16.0  \n",
      "3229                   37.0                   37.0  \n",
      "1416                   38.0                   38.0  \n",
      "4484                   12.0                   12.0  \n"
     ]
    }
   ],
   "source": [
    "# Sort the DataFrame by the 'Temperature' column\n",
    "df_sorted = df_sorted.sort_values(by='Moisture')\n",
    "\n",
    "df_sorted['mois_sort_Phosphorous'] = df_sorted['Phosphorous']\n",
    "print(df_sorted.columns)\n",
    "print()\n",
    "print(df_sorted.head())\n",
    "\n",
    "import numpy as np\n",
    "\n",
    "# Replace values in 'temp_sort_Phosphorous' where 'Phosphorous' is 0 with NaN\n",
    "df_sorted['mois_sort_Phosphorous'] = df_sorted.apply(\n",
    "    lambda row: row['Phosphorous'] if row['Phosphorous'] != 0 else np.nan, axis=1\n",
    ")\n",
    "\n",
    "df_sorted['mois_sort_Phosphorous'] = df_sorted['mois_sort_Phosphorous'].interpolate()\n",
    "print(df_sorted.head())"
   ]
  },
  {
   "cell_type": "code",
   "execution_count": 458,
   "id": "a5286376-5279-44b0-b139-02230595b179",
   "metadata": {},
   "outputs": [
    {
     "name": "stdout",
     "output_type": "stream",
     "text": [
      "Index(['Temparature', 'Humidity', 'Moisture', 'Soil Type', 'Crop Type',\n",
      "       'Nitrogen', 'Potassium', 'Phosphorous', 'Fertilizer Name',\n",
      "       'temp_sort_Phosphorous', 'nitr_sort_Phosphorous',\n",
      "       'mois_sort_Phosphorous', 'humd_sort_Phosphorous'],\n",
      "      dtype='object')\n",
      "\n",
      "      Temparature  Humidity  Moisture Soil Type Crop Type  Nitrogen  \\\n",
      "4215        28.24     40.02     40.05       Red    Pulses         1   \n",
      "7001        27.53     40.07     31.84     Sandy    Pulses        14   \n",
      "1623        28.76     40.17     64.52     Sandy   Millets        14   \n",
      "7653        21.26     40.17     21.00     Loamy     Wheat        13   \n",
      "430         24.06     40.20     34.24     Black     Wheat         2   \n",
      "\n",
      "      Potassium  Phosphorous Fertilizer Name  temp_sort_Phosphorous  \\\n",
      "4215         17           15           20-20                   15.0   \n",
      "7001         10           15           28-28                   15.0   \n",
      "1623         10           15           20-20                   15.0   \n",
      "7653         10           12        14-35-14                   12.0   \n",
      "430          19           12        10-26-26                   12.0   \n",
      "\n",
      "      nitr_sort_Phosphorous  mois_sort_Phosphorous  humd_sort_Phosphorous  \n",
      "4215                   15.0                   15.0                     15  \n",
      "7001                   15.0                   15.0                     15  \n",
      "1623                   15.0                   15.0                     15  \n",
      "7653                   12.0                   12.0                     12  \n",
      "430                    12.0                   12.0                     12  \n",
      "      Temparature  Humidity  Moisture Soil Type Crop Type  Nitrogen  \\\n",
      "4215        28.24     40.02     40.05       Red    Pulses         1   \n",
      "7001        27.53     40.07     31.84     Sandy    Pulses        14   \n",
      "1623        28.76     40.17     64.52     Sandy   Millets        14   \n",
      "7653        21.26     40.17     21.00     Loamy     Wheat        13   \n",
      "430         24.06     40.20     34.24     Black     Wheat         2   \n",
      "\n",
      "      Potassium  Phosphorous Fertilizer Name  temp_sort_Phosphorous  \\\n",
      "4215         17           15           20-20                   15.0   \n",
      "7001         10           15           28-28                   15.0   \n",
      "1623         10           15           20-20                   15.0   \n",
      "7653         10           12        14-35-14                   12.0   \n",
      "430          19           12        10-26-26                   12.0   \n",
      "\n",
      "      nitr_sort_Phosphorous  mois_sort_Phosphorous  humd_sort_Phosphorous  \n",
      "4215                   15.0                   15.0                   15.0  \n",
      "7001                   15.0                   15.0                   15.0  \n",
      "1623                   15.0                   15.0                   15.0  \n",
      "7653                   12.0                   12.0                   12.0  \n",
      "430                    12.0                   12.0                   12.0  \n"
     ]
    }
   ],
   "source": [
    "# Sort the DataFrame by the 'Temperature' column\n",
    "df_sorted = df_sorted.sort_values(by='Humidity')\n",
    "\n",
    "df_sorted['humd_sort_Phosphorous'] = df_sorted['Phosphorous']\n",
    "print(df_sorted.columns)\n",
    "print()\n",
    "print(df_sorted.head())\n",
    "\n",
    "import numpy as np\n",
    "\n",
    "# Replace values in 'temp_sort_Phosphorous' where 'Phosphorous' is 0 with NaN\n",
    "df_sorted['humd_sort_Phosphorous'] = df_sorted.apply(\n",
    "    lambda row: row['Phosphorous'] if row['Phosphorous'] != 0 else np.nan, axis=1\n",
    ")\n",
    "\n",
    "df_sorted['humd_sort_Phosphorous'] = df_sorted['humd_sort_Phosphorous'].interpolate()\n",
    "print(df_sorted.head())"
   ]
  },
  {
   "cell_type": "code",
   "execution_count": 459,
   "id": "4711727f-2a8a-44c7-97c5-8445dc29e5d3",
   "metadata": {},
   "outputs": [
    {
     "data": {
      "text/plain": [
       "Index(['Temparature', 'Humidity', 'Moisture', 'Soil Type', 'Crop Type',\n",
       "       'Nitrogen', 'Potassium', 'Phosphorous', 'Fertilizer Name',\n",
       "       'temp_sort_Phosphorous', 'nitr_sort_Phosphorous',\n",
       "       'mois_sort_Phosphorous', 'humd_sort_Phosphorous'],\n",
       "      dtype='object')"
      ]
     },
     "execution_count": 459,
     "metadata": {},
     "output_type": "execute_result"
    }
   ],
   "source": [
    "df_sorted.columns"
   ]
  },
  {
   "cell_type": "code",
   "execution_count": 460,
   "id": "00e47c60-0b30-4772-9780-925e12a80e65",
   "metadata": {},
   "outputs": [
    {
     "data": {
      "text/plain": [
       "Index(['Temparature', 'Humidity', 'Moisture', 'Soil Type', 'Crop Type',\n",
       "       'Nitrogen', 'Potassium', 'Phosphorous', 'Fertilizer Name',\n",
       "       'temp_sort_Phosphorous', 'nitr_sort_Phosphorous',\n",
       "       'mois_sort_Phosphorous', 'humd_sort_Phosphorous', 'final_Phosphorous'],\n",
       "      dtype='object')"
      ]
     },
     "execution_count": 460,
     "metadata": {},
     "output_type": "execute_result"
    }
   ],
   "source": [
    "df_sorted['final_Phosphorous'] = (df_sorted['temp_sort_Phosphorous'] + df_sorted['nitr_sort_Phosphorous'] + df_sorted['mois_sort_Phosphorous'] + df_sorted['humd_sort_Phosphorous'])\n",
    "df_sorted['final_Phosphorous'] = df_sorted['final_Phosphorous'] / 4\n",
    "df_sorted.columns"
   ]
  },
  {
   "cell_type": "code",
   "execution_count": 461,
   "id": "82b9383d-e847-4db9-b57c-15a23774d4ea",
   "metadata": {},
   "outputs": [],
   "source": [
    "df_sorted = df_sorted.drop(columns=['temp_sort_Phosphorous', 'nitr_sort_Phosphorous', 'mois_sort_Phosphorous', 'humd_sort_Phosphorous'])"
   ]
  },
  {
   "cell_type": "code",
   "execution_count": 462,
   "id": "d8a381a9-db7d-40d1-8f20-35927e03517b",
   "metadata": {},
   "outputs": [
    {
     "data": {
      "text/plain": [
       "Index(['Temparature', 'Humidity', 'Moisture', 'Soil Type', 'Crop Type',\n",
       "       'Nitrogen', 'Potassium', 'Phosphorous', 'Fertilizer Name',\n",
       "       'final_Phosphorous'],\n",
       "      dtype='object')"
      ]
     },
     "execution_count": 462,
     "metadata": {},
     "output_type": "execute_result"
    }
   ],
   "source": [
    "df_sorted.columns"
   ]
  },
  {
   "cell_type": "code",
   "execution_count": 463,
   "id": "d54347d5-452d-448e-84bd-4bca7abad6a9",
   "metadata": {},
   "outputs": [
    {
     "data": {
      "text/plain": [
       "Temparature             0\n",
       "Humidity                0\n",
       "Moisture                0\n",
       "Soil Type               0\n",
       "Crop Type               0\n",
       "Nitrogen                0\n",
       "Potassium               0\n",
       "Phosphorous             0\n",
       "Fertilizer Name         0\n",
       "final_Phosphorous    1086\n",
       "dtype: int64"
      ]
     },
     "execution_count": 463,
     "metadata": {},
     "output_type": "execute_result"
    }
   ],
   "source": [
    "df_sorted.isna().sum()"
   ]
  },
  {
   "cell_type": "markdown",
   "id": "38ea9dfa-3397-454f-ad4f-c787e59f790b",
   "metadata": {},
   "source": [
    "Moisture is the mostly effective fact to the Phosphorous level. So will use Moisture level to fill the null places."
   ]
  },
  {
   "cell_type": "code",
   "execution_count": 464,
   "id": "f6c9fb49-75e3-4fef-a1d8-928e628c3d2f",
   "metadata": {},
   "outputs": [
    {
     "data": {
      "text/html": [
       "<div>\n",
       "<style scoped>\n",
       "    .dataframe tbody tr th:only-of-type {\n",
       "        vertical-align: middle;\n",
       "    }\n",
       "\n",
       "    .dataframe tbody tr th {\n",
       "        vertical-align: top;\n",
       "    }\n",
       "\n",
       "    .dataframe thead th {\n",
       "        text-align: right;\n",
       "    }\n",
       "</style>\n",
       "<table border=\"1\" class=\"dataframe\">\n",
       "  <thead>\n",
       "    <tr style=\"text-align: right;\">\n",
       "      <th></th>\n",
       "      <th>Temparature</th>\n",
       "      <th>Humidity</th>\n",
       "      <th>Moisture</th>\n",
       "      <th>Soil Type</th>\n",
       "      <th>Crop Type</th>\n",
       "      <th>Nitrogen</th>\n",
       "      <th>Potassium</th>\n",
       "      <th>Phosphorous</th>\n",
       "      <th>Fertilizer Name</th>\n",
       "      <th>final_Phosphorous</th>\n",
       "    </tr>\n",
       "  </thead>\n",
       "  <tbody>\n",
       "    <tr>\n",
       "      <th>2195</th>\n",
       "      <td>24.98</td>\n",
       "      <td>67.90</td>\n",
       "      <td>70.0</td>\n",
       "      <td>Loamy</td>\n",
       "      <td>Wheat</td>\n",
       "      <td>14</td>\n",
       "      <td>0</td>\n",
       "      <td>38</td>\n",
       "      <td>10-26-26</td>\n",
       "      <td>38.0</td>\n",
       "    </tr>\n",
       "    <tr>\n",
       "      <th>1312</th>\n",
       "      <td>38.65</td>\n",
       "      <td>67.93</td>\n",
       "      <td>70.0</td>\n",
       "      <td>Loamy</td>\n",
       "      <td>Millets</td>\n",
       "      <td>10</td>\n",
       "      <td>1</td>\n",
       "      <td>40</td>\n",
       "      <td>28-28</td>\n",
       "      <td>40.0</td>\n",
       "    </tr>\n",
       "    <tr>\n",
       "      <th>3419</th>\n",
       "      <td>36.30</td>\n",
       "      <td>68.21</td>\n",
       "      <td>70.0</td>\n",
       "      <td>Red</td>\n",
       "      <td>Barley</td>\n",
       "      <td>19</td>\n",
       "      <td>3</td>\n",
       "      <td>18</td>\n",
       "      <td>17-17-17</td>\n",
       "      <td>18.0</td>\n",
       "    </tr>\n",
       "    <tr>\n",
       "      <th>4716</th>\n",
       "      <td>25.73</td>\n",
       "      <td>68.57</td>\n",
       "      <td>70.0</td>\n",
       "      <td>Sandy</td>\n",
       "      <td>Millets</td>\n",
       "      <td>10</td>\n",
       "      <td>4</td>\n",
       "      <td>26</td>\n",
       "      <td>17-17-17</td>\n",
       "      <td>26.0</td>\n",
       "    </tr>\n",
       "    <tr>\n",
       "      <th>1295</th>\n",
       "      <td>35.61</td>\n",
       "      <td>68.63</td>\n",
       "      <td>70.0</td>\n",
       "      <td>Red</td>\n",
       "      <td>Sugarcane</td>\n",
       "      <td>25</td>\n",
       "      <td>0</td>\n",
       "      <td>15</td>\n",
       "      <td>28-28</td>\n",
       "      <td>15.0</td>\n",
       "    </tr>\n",
       "  </tbody>\n",
       "</table>\n",
       "</div>"
      ],
      "text/plain": [
       "      Temparature  Humidity  Moisture Soil Type  Crop Type  Nitrogen  \\\n",
       "2195        24.98     67.90      70.0     Loamy      Wheat        14   \n",
       "1312        38.65     67.93      70.0     Loamy    Millets        10   \n",
       "3419        36.30     68.21      70.0       Red     Barley        19   \n",
       "4716        25.73     68.57      70.0     Sandy    Millets        10   \n",
       "1295        35.61     68.63      70.0       Red  Sugarcane        25   \n",
       "\n",
       "      Potassium  Phosphorous Fertilizer Name  final_Phosphorous  \n",
       "2195          0           38        10-26-26               38.0  \n",
       "1312          1           40           28-28               40.0  \n",
       "3419          3           18        17-17-17               18.0  \n",
       "4716          4           26        17-17-17               26.0  \n",
       "1295          0           15           28-28               15.0  "
      ]
     },
     "execution_count": 464,
     "metadata": {},
     "output_type": "execute_result"
    }
   ],
   "source": [
    "df_sorted = df_sorted.sort_values(by='Moisture')\n",
    "\n",
    "# df_sorted[df_sorted['final_Phosphorous'].isna()].head()\n",
    "\n",
    "df_sorted.tail()\n",
    "\n",
    "# df_sorted[df_sorted['final_Phosphorous'].isna()].reset_index().plot(kind='scatter', y='Moisture', x='index', figsize=(10,5))"
   ]
  },
  {
   "cell_type": "code",
   "execution_count": 465,
   "id": "a06dcf29-6470-4f6d-8305-921d63966a65",
   "metadata": {},
   "outputs": [],
   "source": [
    "df_sorted['final_Phosphorous'] = df_sorted['final_Phosphorous'].interpolate()"
   ]
  },
  {
   "cell_type": "code",
   "execution_count": 466,
   "id": "328adb55-561d-43ae-9b01-4ed5132a8e0b",
   "metadata": {},
   "outputs": [
    {
     "data": {
      "text/plain": [
       "Temparature          0\n",
       "Humidity             0\n",
       "Moisture             0\n",
       "Soil Type            0\n",
       "Crop Type            0\n",
       "Nitrogen             0\n",
       "Potassium            0\n",
       "Phosphorous          0\n",
       "Fertilizer Name      0\n",
       "final_Phosphorous    0\n",
       "dtype: int64"
      ]
     },
     "execution_count": 466,
     "metadata": {},
     "output_type": "execute_result"
    }
   ],
   "source": [
    "df_sorted.isna().sum()"
   ]
  },
  {
   "cell_type": "markdown",
   "id": "e1018b5d-ce95-4c8a-bde1-0d27edf6aa81",
   "metadata": {},
   "source": [
    "### Change Potassium\n",
    "Potassium can not be 0. This datase have almost 1800 sample out of 8000 samples which have 0 values. I am going to replace then with interpolate values while sorting them as the general combination."
   ]
  },
  {
   "cell_type": "code",
   "execution_count": 467,
   "id": "94c382ea-5a7f-4abb-a8af-0ae583f5deb2",
   "metadata": {},
   "outputs": [
    {
     "data": {
      "text/plain": [
       "<bound method NDFrame.head of       Temparature  Humidity  Moisture Soil Type  Crop Type  Nitrogen  \\\n",
       "1965        31.55     52.46      20.0     Sandy  Sugarcane         9   \n",
       "5132        31.73     69.10      20.0     Black  Oil seeds         8   \n",
       "2999        34.81     63.81      20.0    Clayey  Sugarcane        13   \n",
       "6711        28.82     62.48      20.0     Black    Millets        14   \n",
       "5443        21.28     52.32      20.0     Black    Tobacco        14   \n",
       "...           ...       ...       ...       ...        ...       ...   \n",
       "2195        24.98     67.90      70.0     Loamy      Wheat        14   \n",
       "1312        38.65     67.93      70.0     Loamy    Millets        10   \n",
       "3419        36.30     68.21      70.0       Red     Barley        19   \n",
       "4716        25.73     68.57      70.0     Sandy    Millets        10   \n",
       "1295        35.61     68.63      70.0       Red  Sugarcane        25   \n",
       "\n",
       "      Potassium  Phosphorous Fertilizer Name  final_Phosphorous  \n",
       "1965          4           42        17-17-17               42.0  \n",
       "5132         15           13            Urea               13.0  \n",
       "2999          3           40           28-28               40.0  \n",
       "6711          0           10        14-35-14               10.0  \n",
       "5443         11            9           20-20                9.0  \n",
       "...         ...          ...             ...                ...  \n",
       "2195          0           38        10-26-26               38.0  \n",
       "1312          1           40           28-28               40.0  \n",
       "3419          3           18        17-17-17               18.0  \n",
       "4716          4           26        17-17-17               26.0  \n",
       "1295          0           15           28-28               15.0  \n",
       "\n",
       "[8000 rows x 10 columns]>"
      ]
     },
     "execution_count": 467,
     "metadata": {},
     "output_type": "execute_result"
    }
   ],
   "source": [
    "df_pt_sorted = df_sorted.copy()\n",
    "df_pt_sorted.head\n",
    "# df_pt_sorted.isna().sum()"
   ]
  },
  {
   "cell_type": "code",
   "execution_count": 468,
   "id": "695a5f57-b78f-4baf-8208-228dcc79d0b3",
   "metadata": {},
   "outputs": [
    {
     "data": {
      "text/plain": [
       "(21, 10)"
      ]
     },
     "execution_count": 468,
     "metadata": {},
     "output_type": "execute_result"
    }
   ],
   "source": [
    "df_pt_sorted[(df_pt_sorted[\"Nitrogen\"]==0)].shape"
   ]
  },
  {
   "cell_type": "code",
   "execution_count": 469,
   "id": "3dd12dd4-e398-4702-a013-e1e645d235d2",
   "metadata": {},
   "outputs": [
    {
     "data": {
      "text/plain": [
       "Index(['Temparature', 'Humidity', 'Moisture', 'Soil Type', 'Crop Type',\n",
       "       'Nitrogen', 'Potassium', 'Phosphorous', 'Fertilizer Name',\n",
       "       'final_Phosphorous'],\n",
       "      dtype='object')"
      ]
     },
     "execution_count": 469,
     "metadata": {},
     "output_type": "execute_result"
    }
   ],
   "source": [
    "df_pt_sorted.columns"
   ]
  },
  {
   "cell_type": "code",
   "execution_count": 470,
   "id": "1aab2dd0-492c-445b-be86-c997370cc1fd",
   "metadata": {},
   "outputs": [
    {
     "name": "stdout",
     "output_type": "stream",
     "text": [
      "Index(['Temparature', 'Humidity', 'Moisture', 'Soil Type', 'Crop Type',\n",
      "       'Nitrogen', 'Potassium', 'Phosphorous', 'Fertilizer Name',\n",
      "       'final_Phosphorous', 'humd_sort_Potassium'],\n",
      "      dtype='object')\n",
      "\n",
      "      Temparature  Humidity  Moisture Soil Type  Crop Type  Nitrogen  \\\n",
      "3107        40.00      80.0     50.64    Clayey     Pulses        36   \n",
      "6061        40.00      80.0     43.34     Black     Barley        43   \n",
      "7191        38.48      80.0     59.16       Red  Oil seeds        37   \n",
      "7373        40.00      80.0     53.26     Sandy  Sugarcane        39   \n",
      "293         40.00      80.0     59.99    Clayey     Cotton        42   \n",
      "\n",
      "      Potassium  Phosphorous Fertilizer Name  final_Phosphorous  \\\n",
      "3107          3            0            Urea          11.500000   \n",
      "6061          4            0           28-28          24.000000   \n",
      "7191          0            0            Urea          28.500000   \n",
      "7373          0            4        17-17-17           4.000000   \n",
      "293           0            0        10-26-26          22.333333   \n",
      "\n",
      "      humd_sort_Potassium  \n",
      "3107                    3  \n",
      "6061                    4  \n",
      "7191                    0  \n",
      "7373                    0  \n",
      "293                     0  \n",
      "      Temparature  Humidity  Moisture Soil Type  Crop Type  Nitrogen  \\\n",
      "3107        40.00      80.0     50.64    Clayey     Pulses        36   \n",
      "6061        40.00      80.0     43.34     Black     Barley        43   \n",
      "7191        38.48      80.0     59.16       Red  Oil seeds        37   \n",
      "7373        40.00      80.0     53.26     Sandy  Sugarcane        39   \n",
      "293         40.00      80.0     59.99    Clayey     Cotton        42   \n",
      "\n",
      "      Potassium  Phosphorous Fertilizer Name  final_Phosphorous  \\\n",
      "3107          3            0            Urea          11.500000   \n",
      "6061          4            0           28-28          24.000000   \n",
      "7191          0            0            Urea          28.500000   \n",
      "7373          0            4        17-17-17           4.000000   \n",
      "293           0            0        10-26-26          22.333333   \n",
      "\n",
      "      humd_sort_Potassium  \n",
      "3107                  3.0  \n",
      "6061                  4.0  \n",
      "7191                  4.0  \n",
      "7373                  4.0  \n",
      "293                   4.0  \n"
     ]
    }
   ],
   "source": [
    "# Sort the DataFrame by the 'Temperature' column\n",
    "df_pt_sorted = df_pt_sorted.sort_values(by='Humidity', ascending=False)\n",
    "\n",
    "df_pt_sorted['humd_sort_Potassium'] = df_pt_sorted['Potassium']\n",
    "print(df_pt_sorted.columns)\n",
    "print()\n",
    "print(df_pt_sorted.head())\n",
    "\n",
    "import numpy as np\n",
    "\n",
    "# Replace values in 'temp_sort_Phosphorous' where 'Phosphorous' is 0 with NaN\n",
    "df_pt_sorted['humd_sort_Potassium'] = df_pt_sorted.apply(\n",
    "    lambda row: row['Potassium'] if row['Potassium'] != 0 else np.nan, axis=1\n",
    ")\n",
    "\n",
    "df_pt_sorted['humd_sort_Potassium'] = df_pt_sorted['humd_sort_Potassium'].interpolate()\n",
    "print(df_pt_sorted.head())"
   ]
  },
  {
   "cell_type": "code",
   "execution_count": 471,
   "id": "c10ea044-99d8-47c4-aaf0-ad1cee95effe",
   "metadata": {},
   "outputs": [
    {
     "name": "stdout",
     "output_type": "stream",
     "text": [
      "Index(['Temparature', 'Humidity', 'Moisture', 'Soil Type', 'Crop Type',\n",
      "       'Nitrogen', 'Potassium', 'Phosphorous', 'Fertilizer Name',\n",
      "       'final_Phosphorous', 'humd_sort_Potassium', 'temp_sort_Potassium'],\n",
      "      dtype='object')\n",
      "\n",
      "      Temparature  Humidity  Moisture Soil Type  Crop Type  Nitrogen  \\\n",
      "3997        20.00     55.62     31.35     Loamy     Barley         9   \n",
      "2581        20.03     52.64     70.00     Sandy  Sugarcane        13   \n",
      "7411        20.05     52.70     59.86     Black  Oil seeds        36   \n",
      "4913        20.09     57.36     36.23    Clayey  Sugarcane        10   \n",
      "4802        20.09     49.43     29.64     Black     Pulses        17   \n",
      "\n",
      "      Potassium  Phosphorous Fertilizer Name  final_Phosphorous  \\\n",
      "3997         20           16        17-17-17               16.0   \n",
      "2581          0           13           20-20               13.0   \n",
      "7411          0            0        10-26-26               10.0   \n",
      "4913         17           18        14-35-14               18.0   \n",
      "4802         11           11        14-35-14               11.0   \n",
      "\n",
      "      humd_sort_Potassium  temp_sort_Potassium  \n",
      "3997            20.000000                   20  \n",
      "2581             7.000000                    0  \n",
      "7411            10.666667                    0  \n",
      "4913            17.000000                   17  \n",
      "4802            11.000000                   11  \n",
      "      Temparature  Humidity  Moisture Soil Type  Crop Type  Nitrogen  \\\n",
      "3997        20.00     55.62     31.35     Loamy     Barley         9   \n",
      "2581        20.03     52.64     70.00     Sandy  Sugarcane        13   \n",
      "7411        20.05     52.70     59.86     Black  Oil seeds        36   \n",
      "4913        20.09     57.36     36.23    Clayey  Sugarcane        10   \n",
      "4802        20.09     49.43     29.64     Black     Pulses        17   \n",
      "\n",
      "      Potassium  Phosphorous Fertilizer Name  final_Phosphorous  \\\n",
      "3997         20           16        17-17-17               16.0   \n",
      "2581          0           13           20-20               13.0   \n",
      "7411          0            0        10-26-26               10.0   \n",
      "4913         17           18        14-35-14               18.0   \n",
      "4802         11           11        14-35-14               11.0   \n",
      "\n",
      "      humd_sort_Potassium  temp_sort_Potassium  \n",
      "3997            20.000000                 20.0  \n",
      "2581             7.000000                 19.0  \n",
      "7411            10.666667                 18.0  \n",
      "4913            17.000000                 17.0  \n",
      "4802            11.000000                 11.0  \n"
     ]
    }
   ],
   "source": [
    "df_pt_sorted = df_pt_sorted.sort_values(by='Temparature')\n",
    "\n",
    "df_pt_sorted['temp_sort_Potassium'] = df_pt_sorted['Potassium']\n",
    "print(df_pt_sorted.columns)\n",
    "print()\n",
    "print(df_pt_sorted.head())\n",
    "\n",
    "import numpy as np\n",
    "\n",
    "# Replace values in 'temp_sort_Phosphorous' where 'Phosphorous' is 0 with NaN\n",
    "df_pt_sorted['temp_sort_Potassium'] = df_pt_sorted.apply(\n",
    "    lambda row: row['Potassium'] if row['Potassium'] != 0 else np.nan, axis=1\n",
    ")\n",
    "\n",
    "df_pt_sorted['temp_sort_Potassium'] = df_pt_sorted['temp_sort_Potassium'].interpolate()\n",
    "print(df_pt_sorted.head())"
   ]
  },
  {
   "cell_type": "code",
   "execution_count": 472,
   "id": "93d537c7-de58-42b0-96b7-daebc020f3f5",
   "metadata": {},
   "outputs": [
    {
     "name": "stdout",
     "output_type": "stream",
     "text": [
      "Index(['Temparature', 'Humidity', 'Moisture', 'Soil Type', 'Crop Type',\n",
      "       'Nitrogen', 'Potassium', 'Phosphorous', 'Fertilizer Name',\n",
      "       'final_Phosphorous', 'humd_sort_Potassium', 'temp_sort_Potassium',\n",
      "       'nitr_sort_Potassium'],\n",
      "      dtype='object')\n",
      "\n",
      "      Temparature  Humidity  Moisture Soil Type    Crop Type  Nitrogen  \\\n",
      "7323        25.45     45.61     41.12    Clayey        Maize         0   \n",
      "3820        32.81     55.45     48.08     Loamy      Millets         0   \n",
      "3638        31.15     58.01     20.55    Clayey        Wheat         0   \n",
      "7540        31.99     68.10     31.15     Loamy  Ground Nuts         0   \n",
      "7448        29.14     69.95     21.50     Loamy  Ground Nuts         0   \n",
      "\n",
      "      Potassium  Phosphorous Fertilizer Name  final_Phosphorous  \\\n",
      "7323         17           19        10-26-26               19.0   \n",
      "3820         16           15           28-28               15.0   \n",
      "3638         16           20             DAP               20.0   \n",
      "7540         15           21        17-17-17               21.0   \n",
      "7448         16           17        10-26-26               17.0   \n",
      "\n",
      "      humd_sort_Potassium  temp_sort_Potassium  nitr_sort_Potassium  \n",
      "7323                 17.0                 17.0                   17  \n",
      "3820                 16.0                 16.0                   16  \n",
      "3638                 16.0                 16.0                   16  \n",
      "7540                 15.0                 15.0                   15  \n",
      "7448                 16.0                 16.0                   16  \n",
      "      Temparature  Humidity  Moisture Soil Type    Crop Type  Nitrogen  \\\n",
      "7323        25.45     45.61     41.12    Clayey        Maize         0   \n",
      "3820        32.81     55.45     48.08     Loamy      Millets         0   \n",
      "3638        31.15     58.01     20.55    Clayey        Wheat         0   \n",
      "7540        31.99     68.10     31.15     Loamy  Ground Nuts         0   \n",
      "7448        29.14     69.95     21.50     Loamy  Ground Nuts         0   \n",
      "\n",
      "      Potassium  Phosphorous Fertilizer Name  final_Phosphorous  \\\n",
      "7323         17           19        10-26-26               19.0   \n",
      "3820         16           15           28-28               15.0   \n",
      "3638         16           20             DAP               20.0   \n",
      "7540         15           21        17-17-17               21.0   \n",
      "7448         16           17        10-26-26               17.0   \n",
      "\n",
      "      humd_sort_Potassium  temp_sort_Potassium  nitr_sort_Potassium  \n",
      "7323                 17.0                 17.0                 17.0  \n",
      "3820                 16.0                 16.0                 16.0  \n",
      "3638                 16.0                 16.0                 16.0  \n",
      "7540                 15.0                 15.0                 15.0  \n",
      "7448                 16.0                 16.0                 16.0  \n"
     ]
    }
   ],
   "source": [
    "df_pt_sorted = df_pt_sorted.sort_values(by='Nitrogen')\n",
    "\n",
    "df_pt_sorted['nitr_sort_Potassium'] = df_pt_sorted['Potassium']\n",
    "print(df_pt_sorted.columns)\n",
    "print()\n",
    "print(df_pt_sorted.head())\n",
    "\n",
    "import numpy as np\n",
    "\n",
    "# Replace values in 'temp_sort_Phosphorous' where 'Phosphorous' is 0 with NaN\n",
    "df_pt_sorted['nitr_sort_Potassium'] = df_pt_sorted.apply(\n",
    "    lambda row: row['Potassium'] if row['Potassium'] != 0 else np.nan, axis=1\n",
    ")\n",
    "\n",
    "df_pt_sorted['nitr_sort_Potassium'] = df_pt_sorted['nitr_sort_Potassium'].interpolate()\n",
    "print(df_pt_sorted.head())"
   ]
  },
  {
   "cell_type": "code",
   "execution_count": 473,
   "id": "85ce8eee-bf11-4ecc-902d-aca6dddd5fd8",
   "metadata": {},
   "outputs": [
    {
     "name": "stdout",
     "output_type": "stream",
     "text": [
      "Index(['Temparature', 'Humidity', 'Moisture', 'Soil Type', 'Crop Type',\n",
      "       'Nitrogen', 'Potassium', 'Phosphorous', 'Fertilizer Name',\n",
      "       'final_Phosphorous', 'humd_sort_Potassium', 'temp_sort_Potassium',\n",
      "       'nitr_sort_Potassium', 'mois_sort_Potassium'],\n",
      "      dtype='object')\n",
      "\n",
      "      Temparature  Humidity  Moisture Soil Type  Crop Type  Nitrogen  \\\n",
      "455         32.66     55.25      20.0       Red      Paddy         0   \n",
      "6592        26.36     64.53      20.0     Black  Sugarcane         0   \n",
      "2000        39.46     69.85      20.0       Red  Sugarcane         9   \n",
      "1435        32.22     56.23      20.0       Red  Oil seeds         8   \n",
      "852         29.99     69.45      20.0     Loamy     Pulses         8   \n",
      "\n",
      "      Potassium  Phosphorous Fertilizer Name  final_Phosphorous  \\\n",
      "455          13           16        10-26-26               16.0   \n",
      "6592         21           19        17-17-17               19.0   \n",
      "2000          7           33            Urea               33.0   \n",
      "1435          6           28            Urea               28.0   \n",
      "852           3           35        10-26-26               35.0   \n",
      "\n",
      "      humd_sort_Potassium  temp_sort_Potassium  nitr_sort_Potassium  \\\n",
      "455                  13.0                 13.0                 13.0   \n",
      "6592                 21.0                 21.0                 21.0   \n",
      "2000                  7.0                  7.0                  7.0   \n",
      "1435                  6.0                  6.0                  6.0   \n",
      "852                   3.0                  3.0                  3.0   \n",
      "\n",
      "      mois_sort_Potassium  \n",
      "455                    13  \n",
      "6592                   21  \n",
      "2000                    7  \n",
      "1435                    6  \n",
      "852                     3  \n",
      "      Temparature  Humidity  Moisture Soil Type  Crop Type  Nitrogen  \\\n",
      "455         32.66     55.25      20.0       Red      Paddy         0   \n",
      "6592        26.36     64.53      20.0     Black  Sugarcane         0   \n",
      "2000        39.46     69.85      20.0       Red  Sugarcane         9   \n",
      "1435        32.22     56.23      20.0       Red  Oil seeds         8   \n",
      "852         29.99     69.45      20.0     Loamy     Pulses         8   \n",
      "\n",
      "      Potassium  Phosphorous Fertilizer Name  final_Phosphorous  \\\n",
      "455          13           16        10-26-26               16.0   \n",
      "6592         21           19        17-17-17               19.0   \n",
      "2000          7           33            Urea               33.0   \n",
      "1435          6           28            Urea               28.0   \n",
      "852           3           35        10-26-26               35.0   \n",
      "\n",
      "      humd_sort_Potassium  temp_sort_Potassium  nitr_sort_Potassium  \\\n",
      "455                  13.0                 13.0                 13.0   \n",
      "6592                 21.0                 21.0                 21.0   \n",
      "2000                  7.0                  7.0                  7.0   \n",
      "1435                  6.0                  6.0                  6.0   \n",
      "852                   3.0                  3.0                  3.0   \n",
      "\n",
      "      mois_sort_Potassium  \n",
      "455                  13.0  \n",
      "6592                 21.0  \n",
      "2000                  7.0  \n",
      "1435                  6.0  \n",
      "852                   3.0  \n"
     ]
    }
   ],
   "source": [
    "df_pt_sorted = df_pt_sorted.sort_values(by='Moisture')\n",
    "\n",
    "df_pt_sorted['mois_sort_Potassium'] = df_pt_sorted['Potassium']\n",
    "print(df_pt_sorted.columns)\n",
    "print()\n",
    "print(df_pt_sorted.head())\n",
    "\n",
    "import numpy as np\n",
    "\n",
    "# Replace values in 'temp_sort_Phosphorous' where 'Phosphorous' is 0 with NaN\n",
    "df_pt_sorted['mois_sort_Potassium'] = df_pt_sorted.apply(\n",
    "    lambda row: row['Potassium'] if row['Potassium'] != 0 else np.nan, axis=1\n",
    ")\n",
    "\n",
    "df_pt_sorted['mois_sort_Potassium'] = df_pt_sorted['mois_sort_Potassium'].interpolate()\n",
    "print(df_pt_sorted.head())"
   ]
  },
  {
   "cell_type": "code",
   "execution_count": 474,
   "id": "e1f79ab2-e0b5-4396-b76c-d4893793ddd1",
   "metadata": {},
   "outputs": [
    {
     "name": "stdout",
     "output_type": "stream",
     "text": [
      "Index(['Temparature', 'Humidity', 'Moisture', 'Soil Type', 'Crop Type',\n",
      "       'Nitrogen', 'Potassium', 'Phosphorous', 'Fertilizer Name',\n",
      "       'final_Phosphorous', 'humd_sort_Potassium', 'temp_sort_Potassium',\n",
      "       'nitr_sort_Potassium', 'mois_sort_Potassium'],\n",
      "      dtype='object')\n"
     ]
    }
   ],
   "source": [
    "print(df_pt_sorted.columns)"
   ]
  },
  {
   "cell_type": "code",
   "execution_count": 475,
   "id": "cca52fde-b897-47b2-a5db-122d4dabd6b9",
   "metadata": {},
   "outputs": [
    {
     "data": {
      "text/plain": [
       "Index(['Temparature', 'Humidity', 'Moisture', 'Soil Type', 'Crop Type',\n",
       "       'Nitrogen', 'Potassium', 'Phosphorous', 'Fertilizer Name',\n",
       "       'final_Phosphorous', 'humd_sort_Potassium', 'temp_sort_Potassium',\n",
       "       'nitr_sort_Potassium', 'mois_sort_Potassium', 'final_Potassium'],\n",
       "      dtype='object')"
      ]
     },
     "execution_count": 475,
     "metadata": {},
     "output_type": "execute_result"
    }
   ],
   "source": [
    "df_pt_sorted['final_Potassium'] = (df_pt_sorted['humd_sort_Potassium'] + df_pt_sorted['temp_sort_Potassium'] + df_pt_sorted['nitr_sort_Potassium'] + df_pt_sorted['mois_sort_Potassium'])\n",
    "df_pt_sorted['final_Potassium'] = df_pt_sorted['final_Potassium'] / 4\n",
    "df_pt_sorted.columns"
   ]
  },
  {
   "cell_type": "code",
   "execution_count": 476,
   "id": "a6612245-365f-4934-b780-7caec07f5122",
   "metadata": {},
   "outputs": [
    {
     "data": {
      "text/plain": [
       "Temparature            0\n",
       "Humidity               0\n",
       "Moisture               0\n",
       "Soil Type              0\n",
       "Crop Type              0\n",
       "Nitrogen               0\n",
       "Potassium              0\n",
       "Phosphorous            0\n",
       "Fertilizer Name        0\n",
       "final_Phosphorous      0\n",
       "humd_sort_Potassium    0\n",
       "temp_sort_Potassium    0\n",
       "nitr_sort_Potassium    0\n",
       "mois_sort_Potassium    0\n",
       "final_Potassium        0\n",
       "dtype: int64"
      ]
     },
     "execution_count": 476,
     "metadata": {},
     "output_type": "execute_result"
    }
   ],
   "source": [
    "df_pt_sorted.isna().sum()"
   ]
  },
  {
   "cell_type": "code",
   "execution_count": 477,
   "id": "457b9f80-72c2-49cc-bba5-d1f75e69fcc0",
   "metadata": {},
   "outputs": [],
   "source": [
    "df_pt_sorted = df_pt_sorted.drop(columns=['humd_sort_Potassium', 'temp_sort_Potassium', 'nitr_sort_Potassium', 'mois_sort_Potassium'])"
   ]
  },
  {
   "cell_type": "code",
   "execution_count": 478,
   "id": "b99f2027-8a87-44a3-a201-ed63c68f06b8",
   "metadata": {},
   "outputs": [
    {
     "data": {
      "text/plain": [
       "Index(['Temparature', 'Humidity', 'Moisture', 'Soil Type', 'Crop Type',\n",
       "       'Nitrogen', 'Potassium', 'Phosphorous', 'Fertilizer Name',\n",
       "       'final_Phosphorous', 'final_Potassium'],\n",
       "      dtype='object')"
      ]
     },
     "execution_count": 478,
     "metadata": {},
     "output_type": "execute_result"
    }
   ],
   "source": [
    "df_pt_sorted.columns"
   ]
  },
  {
   "cell_type": "code",
   "execution_count": 481,
   "id": "ce5d9bc4-d586-488f-bebb-610e250fd34b",
   "metadata": {},
   "outputs": [],
   "source": [
    "# df_pt_sorted.reset_index().plot(kind='scatter', y='final_Potassium', x='index', figsize=(10,5))"
   ]
  },
  {
   "cell_type": "code",
   "execution_count": 482,
   "id": "ea097226-cd80-40db-96fe-e064faf7da01",
   "metadata": {},
   "outputs": [],
   "source": [
    "# df_old[(df_old['Phosphorous'] == 0) | (df_old['Potassium'] == 0)].value_counts()"
   ]
  },
  {
   "cell_type": "markdown",
   "id": "aae1cfcb-e2d1-43f8-accb-53786435b870",
   "metadata": {},
   "source": [
    "# Start with new dataset"
   ]
  },
  {
   "cell_type": "code",
   "execution_count": 485,
   "id": "bc9d0d82-d932-4ce2-877e-dbf04724f700",
   "metadata": {},
   "outputs": [],
   "source": [
    "df_final=df_pt_sorted.copy()"
   ]
  },
  {
   "cell_type": "code",
   "execution_count": 486,
   "id": "5a6676b3-b1b8-4170-b234-d3a8bcf9bbed",
   "metadata": {},
   "outputs": [
    {
     "data": {
      "text/plain": [
       "Index(['Temparature', 'Humidity', 'Moisture', 'Soil Type', 'Crop Type',\n",
       "       'Nitrogen', 'Potassium', 'Phosphorous', 'Fertilizer Name',\n",
       "       'final_Phosphorous', 'final_Potassium'],\n",
       "      dtype='object')"
      ]
     },
     "execution_count": 486,
     "metadata": {},
     "output_type": "execute_result"
    }
   ],
   "source": [
    "df_final.columns"
   ]
  },
  {
   "cell_type": "code",
   "execution_count": 490,
   "id": "83db1dcc-d427-4b52-a5ba-cd5c26a2c333",
   "metadata": {},
   "outputs": [
    {
     "data": {
      "text/plain": [
       "Temparature          float64\n",
       "Humidity             float64\n",
       "Moisture             float64\n",
       "Soil Type             object\n",
       "Crop Type             object\n",
       "Nitrogen               int64\n",
       "Potassium              int64\n",
       "Phosphorous            int64\n",
       "Fertilizer Name       object\n",
       "final_Phosphorous    float64\n",
       "final_Potassium      float64\n",
       "dtype: object"
      ]
     },
     "execution_count": 490,
     "metadata": {},
     "output_type": "execute_result"
    }
   ],
   "source": [
    "df_final.dtypes"
   ]
  },
  {
   "cell_type": "code",
   "execution_count": 493,
   "id": "0424a120-47d6-4f53-8480-80f03510db18",
   "metadata": {},
   "outputs": [
    {
     "name": "stdout",
     "output_type": "stream",
     "text": [
      "['Temparature', 'Humidity', 'Moisture', 'Nitrogen', 'final_Potassium', 'final_Phosphorous']\n",
      "['Crop Type']\n",
      "X1 Shape:  (8000, 6)\n",
      "Y1 Shape:  (8000, 1)\n"
     ]
    }
   ],
   "source": [
    "x1_final_feature = ['Temparature','Humidity', 'Moisture', 'Nitrogen', 'final_Potassium', 'final_Phosphorous']\n",
    "y1_final_feature = ['Crop Type']\n",
    "\n",
    "print(x1_final_feature)\n",
    "print(y1_final_feature)\n",
    "\n",
    "x1_final = df_final.loc[:, x1_final_feature].values\n",
    "y1_final = df_final.loc[:, y1_final_feature].values\n",
    "\n",
    "print(\"X1 Shape: \" , x1_old.shape)\n",
    "print(\"Y1 Shape: \" , y1_old.shape)"
   ]
  },
  {
   "cell_type": "code",
   "execution_count": 494,
   "id": "2fd66811-6b41-47ea-979f-14c5ea33eb37",
   "metadata": {},
   "outputs": [
    {
     "name": "stdout",
     "output_type": "stream",
     "text": [
      "X_train shape :  (5600, 6)\n",
      "X_test shape :  (2400, 6)\n",
      "Y_train shape :  (5600, 1)\n",
      "Y_test shape :  (2400, 1)\n"
     ]
    }
   ],
   "source": [
    "# Split the dataset (both X and y) into training set and test set using the train_test_split() function\n",
    "\n",
    "X_train_final, X_test_final, Y_train_final, Y_test_final = train_test_split(x1_final, y1_final, test_size=0.3, random_state=0)\n",
    "\n",
    "\n",
    "print(\"X_train shape : \" , X_train_final.shape)\n",
    "print(\"X_test shape : \" , X_test_final.shape)\n",
    "print(\"Y_train shape : \" , Y_train_final.shape)\n",
    "print(\"Y_test shape : \" , Y_test_final.shape)"
   ]
  },
  {
   "cell_type": "markdown",
   "id": "9cd82b55-8e8f-4a8d-a799-f6e0361911fe",
   "metadata": {},
   "source": [
    "### <u>Effert with DecisionTreeClassifier</u>"
   ]
  },
  {
   "cell_type": "code",
   "execution_count": 495,
   "id": "8e3f3c1f-69a3-4198-8cb2-8f0f70e0112c",
   "metadata": {},
   "outputs": [],
   "source": [
    "#Task 4: create and train the DT Model with maximum tree depth = 3.\n",
    "# more information about the sklearn DecisionTreeClassifier can be found here\n",
    "# https://scikit-learn.org/stable/modules/gener\n",
    "\n",
    "from sklearn.tree import DecisionTreeClassifier\n",
    "\n",
    "decisionTree_model = DecisionTreeClassifier(random_state=0, max_depth=10)\n",
    "decisionTree_model = decisionTree_model.fit(X_train_final, Y_train_final)\n",
    "\n",
    "# print the tree structure using the export_text() function, more about this function is found here\n",
    "# https://scikit-learn.org/stable/modules/generated/sklearn.tree.export_text.html\n",
    "\n",
    "# tree = export_text(decisionTree_model, feature_names = x1_final_feature )\n",
    "# print(tree)"
   ]
  },
  {
   "cell_type": "code",
   "execution_count": 496,
   "id": "e777605c-409f-4243-8241-c50b68fadd0f",
   "metadata": {},
   "outputs": [
    {
     "name": "stdout",
     "output_type": "stream",
     "text": [
      "Train Accuracy Model_DT:  0.2275\n",
      "Test Accuracy:  0.07916666666666666\n",
      "Accuracy of the Decision tree model on the test set: 7.92%\n"
     ]
    }
   ],
   "source": [
    "#Task 5: use the DT model to predict the output for the test dataset and print the accuracy of the predicted values\n",
    "# print the accuracy\n",
    "\n",
    "Y_pred_final = decisionTree_model.predict(X_test_final)\n",
    "# print(Y_pred)\n",
    "\n",
    "print(\"Train Accuracy Model_DT: \", decisionTree_model.score(X_train_final, Y_train_final))\n",
    "dt_accuracy_final = metrics.accuracy_score(Y_test_final, Y_pred_final)\n",
    "\n",
    "print(\"Test Accuracy: \",dt_accuracy_final)\n",
    "print(f'Accuracy of the Decision tree model on the test set: {dt_accuracy_final * 100:.2f}%')"
   ]
  },
  {
   "cell_type": "markdown",
   "id": "498d7d50-9fd9-49ed-9fc3-97e34e8939dc",
   "metadata": {},
   "source": [
    "### <u>Effert with RandomForestClassifier</u>"
   ]
  },
  {
   "cell_type": "code",
   "execution_count": 498,
   "id": "1e35b819-3289-4fc7-ae23-32a740ea3faa",
   "metadata": {},
   "outputs": [
    {
     "name": "stdout",
     "output_type": "stream",
     "text": [
      "X training data:\n",
      " [[26.39       58.76       26.14       39.          6.51666667 22.        ]\n",
      " [23.69       44.73       48.52       18.          1.         17.        ]\n",
      " [38.77       55.67       55.59       14.         18.         11.        ]\n",
      " [28.12       66.34       32.71       10.          1.         13.        ]\n",
      " [30.9        61.42       48.45       13.          8.1875      6.        ]]\n",
      "\n",
      "\n",
      "Y training data:\n",
      " ['Sugarcane' 'Pulses' 'Paddy' 'Millets' 'Barley']\n",
      "\n",
      "\n",
      "X test data:\n",
      " [[30.7  57.71 38.36  9.    4.   18.  ]\n",
      " [22.5  42.27 32.46 18.    4.   17.  ]\n",
      " [30.95 54.47 55.47 12.    6.   32.  ]\n",
      " [38.43 75.91 25.65 14.    4.   36.  ]\n",
      " [40.   75.07 38.95 17.    2.   18.  ]]\n",
      "\n",
      "\n",
      "Y test data:\n",
      " ['Wheat' 'Maize' 'Maize' 'Tobacco' 'Sugarcane']\n",
      "\n",
      "\n",
      "\n",
      " --- Going to predict --- \n",
      "\n",
      "Y test data:\n",
      " ['Wheat' 'Maize' 'Maize' 'Tobacco' 'Sugarcane']\n",
      "\n",
      "\n",
      "Y predict data:\n",
      " ['Paddy' 'Tobacco' 'Oil seeds' 'Ground Nuts' 'Ground Nuts']\n",
      "\n",
      "\n",
      " --- Accuracy --- \n",
      "\n",
      "0.09833333333333333\n",
      "Accuracy of the Random Forest model on the test set: 9.83%\n"
     ]
    }
   ],
   "source": [
    "#Task 6: Create a RandomForest Classifier with 100 trees. more about this can be found here\n",
    "# https://scikit-learn.org/stable/modules/generated/sklearn.ensemble.RandomForestClassifier.html\n",
    "\n",
    "from sklearn.ensemble import RandomForestClassifier\n",
    "from sklearn.metrics import accuracy_score\n",
    "\n",
    "# Flattern Y_train and Y_test to 1D array.\n",
    "# In scikit-learn, the target variable y is expected to be a one-dimensional array with shape (n_samples,). \n",
    "# However, when using pandas DataFrames or Series, y might have a shape of (n_samples, 1), which is a column vector. \n",
    "# This can lead to warnings or errors during model fitting. To ensure compatibility and avoid such issues, \n",
    "# it's recommended to flatten y into a one-dimensional array using the .ravel() method.\n",
    "Y_train_final = Y_train_final.ravel()\n",
    "Y_test_final = Y_test_final.ravel()\n",
    "\n",
    "print(\"X training data:\\n\", X_train_final[:5])\n",
    "print(\"\\n\")\n",
    "print(\"Y training data:\\n\", Y_train_final[:5])\n",
    "print(\"\\n\")\n",
    "print(\"X test data:\\n\", X_test_final[:5])\n",
    "print(\"\\n\")\n",
    "print(\"Y test data:\\n\", Y_test_final[:5])\n",
    "print(\"\\n\")\n",
    "\n",
    "print(\"\\n --- Going to predict --- \\n\")\n",
    "\n",
    "# # Create the model - Random Forest\n",
    "rf_Model = RandomForestClassifier(n_estimators=100, random_state=0)\n",
    "\n",
    "# # Fit the model with data\n",
    "rf_Model = rf_Model.fit(X_train_final, Y_train_final)\n",
    "\n",
    "# # Print prediction\n",
    "y_predict_rf = rf_Model.predict(X_test_final)\n",
    "# print(y_predict_rf)\n",
    "# print(\"\\n\")\n",
    "\n",
    "print(\"Y test data:\\n\", Y_test_final[:5])\n",
    "print(\"\\n\")\n",
    "print(\"Y predict data:\\n\", y_predict_rf[:5])\n",
    "print(\"\\n\")\n",
    "\n",
    "print(\" --- Accuracy --- \\n\")\n",
    "\n",
    "rf_accuracy = accuracy_score(Y_test_final, y_predict_rf)\n",
    "print(rf_accuracy)\n",
    "print(f'Accuracy of the Random Forest model on the test set: {rf_accuracy * 100:.2f}%')"
   ]
  },
  {
   "cell_type": "code",
   "execution_count": null,
   "id": "ca730a4a-22ba-4598-953a-f5bdf87ce1f4",
   "metadata": {},
   "outputs": [],
   "source": []
  }
 ],
 "metadata": {
  "kernelspec": {
   "display_name": "Python 3 (ipykernel)",
   "language": "python",
   "name": "python3"
  },
  "language_info": {
   "codemirror_mode": {
    "name": "ipython",
    "version": 3
   },
   "file_extension": ".py",
   "mimetype": "text/x-python",
   "name": "python",
   "nbconvert_exporter": "python",
   "pygments_lexer": "ipython3",
   "version": "3.12.0"
  }
 },
 "nbformat": 4,
 "nbformat_minor": 5
}
