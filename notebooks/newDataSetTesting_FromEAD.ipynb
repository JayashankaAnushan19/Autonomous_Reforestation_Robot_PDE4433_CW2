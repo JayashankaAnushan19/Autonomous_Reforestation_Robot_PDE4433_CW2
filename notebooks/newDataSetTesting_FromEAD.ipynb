{
 "cells": [
  {
   "cell_type": "code",
   "execution_count": 2,
   "id": "99bc35a7-8147-4486-9e2c-7131a8ef4a19",
   "metadata": {},
   "outputs": [
    {
     "name": "stdout",
     "output_type": "stream",
     "text": [
      "Sheet: Plants_Final\n",
      "Common Name            object\n",
      "Scientific Name        object\n",
      "General Description    object\n",
      "dtype: object\n",
      "\n",
      "\n"
     ]
    }
   ],
   "source": [
    "import pandas as pd\n",
    "\n",
    "# Path to the Excel file\n",
    "file_name = \"../data/raw/Plants_from_ead.xlsx\"\n",
    "\n",
    "# Load all sheets into a dictionary of DataFrames\n",
    "dfs = pd.read_excel(file_name, sheet_name=None)\n",
    "\n",
    "# Print the data types of each DataFrame in the dictionary\n",
    "for sheet_name, df in dfs.items():\n",
    "    print(f\"Sheet: {sheet_name}\")\n",
    "    print(df.dtypes)\n",
    "    print(\"\\n\")  # Add a newline for better readability"
   ]
  },
  {
   "cell_type": "code",
   "execution_count": 3,
   "id": "b168e0f5-4b43-40bc-83f2-790d3a764371",
   "metadata": {},
   "outputs": [
    {
     "data": {
      "text/html": [
       "<div>\n",
       "<style scoped>\n",
       "    .dataframe tbody tr th:only-of-type {\n",
       "        vertical-align: middle;\n",
       "    }\n",
       "\n",
       "    .dataframe tbody tr th {\n",
       "        vertical-align: top;\n",
       "    }\n",
       "\n",
       "    .dataframe thead th {\n",
       "        text-align: right;\n",
       "    }\n",
       "</style>\n",
       "<table border=\"1\" class=\"dataframe\">\n",
       "  <thead>\n",
       "    <tr style=\"text-align: right;\">\n",
       "      <th></th>\n",
       "      <th>Common Name</th>\n",
       "      <th>Scientific Name</th>\n",
       "      <th>General Description</th>\n",
       "    </tr>\n",
       "  </thead>\n",
       "  <tbody>\n",
       "    <tr>\n",
       "      <th>0</th>\n",
       "      <td>Maiden hair fern</td>\n",
       "      <td>Adiantum capillus-veneris L.</td>\n",
       "      <td>Perennial, creeping fern, fronds up to 30 cm. ...</td>\n",
       "    </tr>\n",
       "    <tr>\n",
       "      <th>1</th>\n",
       "      <td>Eastern Marsh helleborine</td>\n",
       "      <td>Epipactis veratrifolia Boiss. &amp; Hohen.</td>\n",
       "      <td>Perennial, creeping rhizome. Stem covered with...</td>\n",
       "    </tr>\n",
       "    <tr>\n",
       "      <th>2</th>\n",
       "      <td>Dipcadi lily</td>\n",
       "      <td>Dipcadi biflorum Ghaz.</td>\n",
       "      <td>Perennial bulb. Two to three narrow curled lea...</td>\n",
       "    </tr>\n",
       "    <tr>\n",
       "      <th>3</th>\n",
       "      <td>Dipcadi lily, brown lily</td>\n",
       "      <td>Dipcadi erythraeum Webb &amp; Berthel.</td>\n",
       "      <td>Perennial, bulb 2-4 cm across with white cover...</td>\n",
       "    </tr>\n",
       "    <tr>\n",
       "      <th>4</th>\n",
       "      <td>Dwarf palm, Mazari palm</td>\n",
       "      <td>Nanorrhops ritchieana (Griffith) Aitch.</td>\n",
       "      <td>Perennial tree with fan-shaped leaves forming ...</td>\n",
       "    </tr>\n",
       "  </tbody>\n",
       "</table>\n",
       "</div>"
      ],
      "text/plain": [
       "                 Common Name                          Scientific Name  \\\n",
       "0           Maiden hair fern             Adiantum capillus-veneris L.   \n",
       "1  Eastern Marsh helleborine   Epipactis veratrifolia Boiss. & Hohen.   \n",
       "2               Dipcadi lily                   Dipcadi biflorum Ghaz.   \n",
       "3  Dipcadi lily, brown lily        Dipcadi erythraeum Webb & Berthel.   \n",
       "4    Dwarf palm, Mazari palm  Nanorrhops ritchieana (Griffith) Aitch.   \n",
       "\n",
       "                                 General Description  \n",
       "0  Perennial, creeping fern, fronds up to 30 cm. ...  \n",
       "1  Perennial, creeping rhizome. Stem covered with...  \n",
       "2  Perennial bulb. Two to three narrow curled lea...  \n",
       "3  Perennial, bulb 2-4 cm across with white cover...  \n",
       "4  Perennial tree with fan-shaped leaves forming ...  "
      ]
     },
     "execution_count": 3,
     "metadata": {},
     "output_type": "execute_result"
    }
   ],
   "source": [
    "df.head()"
   ]
  },
  {
   "cell_type": "code",
   "execution_count": 4,
   "id": "efd57d32-ad05-4247-8b23-e9a66fc8dc54",
   "metadata": {},
   "outputs": [
    {
     "data": {
      "text/plain": [
       "Common Name\n",
       "Tamarisk                        4\n",
       "Sesuvium                        3\n",
       "Fagonia                         2\n",
       "Dipcadi lily, brown lily        1\n",
       "Maiden hair fern                1\n",
       "                               ..\n",
       "Stalked burgrass                1\n",
       "Alkali weed, rosin weed         1\n",
       "Dodder                          1\n",
       "Winter cherry                   1\n",
       "Land caltrop, puncture vine     1\n",
       "Name: count, Length: 183, dtype: int64"
      ]
     },
     "execution_count": 4,
     "metadata": {},
     "output_type": "execute_result"
    }
   ],
   "source": [
    "df[\"Common Name\"].value_counts()"
   ]
  },
  {
   "cell_type": "code",
   "execution_count": 5,
   "id": "94d93ff1-5704-42b9-8829-81aa83dca1ee",
   "metadata": {},
   "outputs": [],
   "source": [
    "# df[\"Common Name\"].hist(bin=100, figsize=(50, 50))"
   ]
  },
  {
   "cell_type": "code",
   "execution_count": 6,
   "id": "166c04e6-1bdd-4622-8576-5cf93e7c9f35",
   "metadata": {},
   "outputs": [
    {
     "data": {
      "text/plain": [
       "(443, 3)"
      ]
     },
     "execution_count": 6,
     "metadata": {},
     "output_type": "execute_result"
    }
   ],
   "source": [
    "df.shape"
   ]
  },
  {
   "cell_type": "code",
   "execution_count": null,
   "id": "c90c62ec-cd53-4143-94d8-bb974a95c1a0",
   "metadata": {},
   "outputs": [],
   "source": []
  },
  {
   "cell_type": "code",
   "execution_count": null,
   "id": "19be3497-9060-478d-a222-a1dbd6e609ff",
   "metadata": {},
   "outputs": [],
   "source": []
  }
 ],
 "metadata": {
  "kernelspec": {
   "display_name": "Python 3 (ipykernel)",
   "language": "python",
   "name": "python3"
  },
  "language_info": {
   "codemirror_mode": {
    "name": "ipython",
    "version": 3
   },
   "file_extension": ".py",
   "mimetype": "text/x-python",
   "name": "python",
   "nbconvert_exporter": "python",
   "pygments_lexer": "ipython3",
   "version": "3.12.0"
  }
 },
 "nbformat": 4,
 "nbformat_minor": 5
}
